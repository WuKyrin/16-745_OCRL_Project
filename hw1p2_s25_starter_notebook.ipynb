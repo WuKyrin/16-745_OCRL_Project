{
  "cells": [
    {
      "cell_type": "markdown",
      "metadata": {
        "id": "view-in-github",
        "colab_type": "text"
      },
      "source": [
        "<a href=\"https://colab.research.google.com/github/WuKyrin/16-745_OCRL_Project/blob/main/hw1p2_s25_starter_notebook.ipynb\" target=\"_parent\"><img src=\"https://colab.research.google.com/assets/colab-badge.svg\" alt=\"Open In Colab\"/></a>"
      ]
    },
    {
      "cell_type": "markdown",
      "metadata": {
        "id": "F9ERgBpbcMmB"
      },
      "source": [
        "# HW1: Frame-Level Speech Recognition"
      ]
    },
    {
      "cell_type": "markdown",
      "metadata": {
        "id": "CLkH6GMGcWcE"
      },
      "source": [
        "In this homework, you will be working with MFCC data consisting of 28 features at each time step/frame. Your model should be able to recognize the phoneme occured in that frame."
      ]
    },
    {
      "cell_type": "markdown",
      "metadata": {
        "id": "P2vp3N7qr_5V"
      },
      "source": [
        "# Dataset Description\n",
        "\n",
        "Let's start by understanding the dataset for this homework.\n",
        "\n",
        "Our data consists of 3 folders (train-clean-100, dev-clean and test-clean). The training and validation datasets (train-clean-100 and dev-clean) each contain 2 subfolders (mfcc and transcript). The 'mfcc' subfolder contains mel spectrograms (explained below and in writeup), while the 'transcript' subfolder contains their corresponding transcripts. However, the test dataset (test-clean) contains only the 'mfcc' subfolder without the corresponding transcripts, which will later be predicted by your model.\n",
        "\n",
        "\n",
        "## 1. Audio Representation.\n",
        "The 'mfcc' subfolders contain many `*.npy` files of mel spectrograms. .npy files are used to store numpy arrays.\n",
        "\n",
        "Each .npy file represents a short speech recording. For example, one recording might be someone saying, \"This is the age of AI.\" This recording is converted into a mel spectrogram, which is used to represent all forms of audio signals in a computer. Such representation is important in signal and speech processing tasks, especially in machine learning.\n",
        "\n",
        "Compared to raw audio, mel spectrograms are better for speech processing because they capture both the timing and the frequencies of the sound. At each moment in time, they show which frequencies are present in the sound. This makes it easier for computers to understand and process speech.\n",
        "\n",
        "When converting raw audio to spectrograms, you do not process the whole audio at once. Instead, you process small frames at a time as you stride over the entire audio length. This means that if you have an audio file of 100 seconds, you may decide to process 10 seconds at a time, striding by one second. In this case, the frame size is 10 seconds. The frame size and the number of timesteps (seconds, milliseconds, etc.) depend on individual choice.\n",
        "\n",
        "When processing each frame, you extract a number of features that represent that frame's audio. For instance, in the audio recording of \"This is the age of AI,\" the frame corresponding to \"AI\" will have features that represent how \"AI\" is pronounced, the vocal tract, and the effect of the environment in which it was recorded. For clarity, when we say features, you should think of columns. One feature/column may have information about the gender of the person who made the speech. Another may have information about the age of the person. Another may have information about the environment where the speech was recorded. Basically, the main properties that make up a speech are encoded in those features, which combine in some way to make the audio.\n",
        "\n",
        "Since we want to recognize the word as it was pronounced despite the environment and other variabilities, we usually normalize to eliminate or minimize such effects.\n",
        "\n",
        "Our spectrograms contain 28 features. Essentially, the number of features may be different. They may depend on how the raw audio data was converted into mel spectrograms.\n",
        "\n",
        "## 2. Transcripts\n",
        "Remember where we mentioned frames? Well, in our dataset, audio frames have corresponding target transcripts. For instance the abbreviation \"AI\", in our example above, if present in the recordings, will have transcripts: /eɪ aɪ/. This means that you will have two frames one for  /eɪ/ and another for /aɪ/.\n",
        "\n",
        "This way of representing pronounciation in text form is called ***phonetic transcription***, \"the conversion of spoken words the way they are pronounced instead of how they are written\"[[link]](https://www.google.com/url?sa=t&source=web&rct=j&opi=89978449&url=https://krisp.ai/blog/phonetic-transcription/%23:~:text%3Dphonetic%2520transcriptions%2520done.-,What%2520are%2520Phonetic%2520Transcriptions%253F,verbatim%2520to%2520intelligent%2520verbatim%2520transcriptions.&ved=2ahUKEwiV6LO6hrSHAxUKSvEDHcvwAAsQFnoECB0QAw&usg=AOvVaw0VqoWceOzdVwe-AvdyyWqJ). In this case letters 'A' and 'I' are pronounce /eɪ/ and /aɪ/, respectively. Both letters in different words may be pronounced differently.\n",
        "\n",
        "The produced representation of the speech is referred to as phonemes. Various .npy files that contain recordings of the sentence **\"This is the age of AI.\"** would map to **\"/ðɪs ɪz ðə eɪdʒ əv eɪ aɪ/.\"** The phonemes representation for **Chelsea sucks** would be **/ˈtʃɛl.si sʌks/**\n",
        "\n",
        "Going inside the .npy files. Each .npy file contains vectors which have 28 features/dimensions/columns. The number of vectors in the file corresponds to the number of frames in the recording. And each single frame has a corresponding phoneme in the transcript.\n",
        "\n",
        "For instance the .npy file for \"This is the age of AI\" --> \"/ðɪs ɪz ðə eɪdʒ əv eɪ aɪ/\" might have 13 frames (13 vectors):\n",
        "\n",
        "- /ðɪs/ has 3 phonemes: /ð/, /ɪ/, /s/  \n",
        "- /ɪz/ has 2 phonemes: /ɪ/, /z/\n",
        "- /ðə/ has 2 phonemes: /ð/, /ə/\n",
        "- /eɪdʒ/ has 2 phonemes: /eɪ/, /dʒ/\n",
        "- /əv/ has 2 phonemes: /ə/, /v/\n",
        "- /eɪ aɪ/ has 2 phonemes: /eɪ/, /aɪ/\n",
        "\n",
        "**Chelsea sucks** --> **/ˈtʃɛl.si sʌks/** might have 8 frames (8 vectors):\n",
        "\n",
        "- /ˈtʃɛl.si/ has 4 phonemes: /tʃ/, /ɛ/, /l/, /si/\n",
        "- /sʌks/ has 4 phonemes: /s/, /ʌ/, /k/, /s/\n",
        "\n",
        "Note that recordings of different sentences may have different number of frames.\n",
        "\n",
        "The model you will produce must take a vector of a particular frame and predict the frame's transcript as accurately as possible.\n",
        "\n",
        "Therefore, the **__getitem__** method of your dataset class must return a 28 dimensional vector of a particular frame and its corresponding phoneme transcript.\n",
        "\n",
        "This means that, while you are doing your data preprocessing in the **__init__** method, you need stack all vectors from all recordings on top of each other. You must do this for all transcripts as well and remember to ensure the correspondance between frames and their phoneme mapping is maintained.\n",
        "\n",
        "For our dataset of two samples above, if you stack the recordings together, you get:\n",
        "\n",
        "\n",
        "| Frame | Feature 1 | Feature 2 | ... | Feature 28 | Phoneme |\n",
        "|-------|-----------|-----------|-----|------------|---------|\n",
        "| 0     | v0_1      | v0_2      | ... | v0_28      | /ð/     |\n",
        "| 1     | v1_1      | v1_2      | ... | v1_28      | /ɪ/     |\n",
        "| 2     | v2_1      | v2_2      | ... | v2_28      | /s/     |\n",
        "| 3     | v3_1      | v3_2      | ... | v3_28      | /ɪ/     |\n",
        "| 4     | v4_1      | v4_2      | ... | v4_28      | /z/     |\n",
        "| 5     | v5_1      | v5_2      | ... | v5_28      | /ð/     |\n",
        "| 6     | v6_1      | v6_2      | ... | v6_28      | /ə/     |\n",
        "| 7     | v7_1      | v7_2      | ... | v7_28      | /eɪ/    |\n",
        "| 8     | v8_1      | v8_2      | ... | v8_28      | /dʒ/    |\n",
        "| 9     | v9_1      | v9_2      | ... | v9_28      | /ə/     |\n",
        "| 10    | v10_1     | v10_2     | ... | v10_28     | /v/     |\n",
        "| 11    | v11_1     | v11_2     | ... | v11_28     | /eɪ/    |\n",
        "| 12    | v12_1     | v12_2     | ... | v12_28     | /aɪ/    |\n",
        "| 13    | v13_1     | v13_2     | ... | v13_28     | /tʃ/    |\n",
        "| 14    | v14_1     | v14_2     | ... | v14_28     | /ɛ/     |\n",
        "| 15    | v15_1     | v15_2     | ... | v15_28     | /l/     |\n",
        "| 16    | v16_1     | v16_2     | ... | v16_28     | /si/     |\n",
        "| 17    | v17_1     | v17_2     | ... | v17_28     | /s/     |\n",
        "| 18    | v18_1     | v18_2     | ... | v18_28     | /ʌ/     |\n",
        "| 19    | v19_1     | v19_2     | ... | v19_28     | /k/     |\n",
        "| 20    | v20_1     | v20_2     | ... | v20_28     | /s/     |\n",
        "\n",
        "\n",
        "So, if you pass index 5 to **__getitem__**, you will get back vector v5 (v5_1, v5_2, ..., v5_28) and transcript **/ð/**. Ideally, if you have a well trained model, it should take v5 and return **/ð/**. And the call to **__len__** would return 21 which the training loop would use to go through the whole dataset.\n",
        "\n",
        "## Context\n",
        "\n",
        "In the dataset we are using, a few millisecs were used to convert raw audio to mel spectrogram and extract the 28 features.\n",
        "Since each vector represents only a few millisecs of speech, it may not be sufficient to feed only a single vector into the network at a time. Instead, it may be useful to provide the network with some “context” of size K around each vector in terms of additional vectors from the speech input.\n",
        "\n",
        "Concretely, a context of size 3 would mean that we provide an input of size (7, 28) to the network - the size 7 can be explained as: the vector to predict the label for, 3 vectors preceding this vector, and 3 vectors following it. It is worth thinking about how you would handle providing context before one of the first K frames of an utterance or after one of the last K frames.\n",
        "\n",
        "There are several ways to implement this, but you could try the simplest one:\n",
        "- Concatenating all utterances and padding with K 0-valued vectors before and after the resulting matrix\n",
        "\n",
        "If you use a context of 3 on the above table, you get the following table:\n",
        "\n",
        "| Frame | Feature 1 | Feature 2 | ... | Feature 28 | Phoneme | Context Vectors |\n",
        "|-------|-----------|-----------|-----|------------|---------|----------------|\n",
        "| 0     | v0_1      | v0_2      | ... | v0_28      | /ð/     | [0, 0, 0, ..., 0] (Padding), [0, 0, 0, ..., 0] (Padding), [0, 0, 0, ..., 0] (Padding), v0, v1, v2, v3 |\n",
        "| 1     | v1_1      | v1_2      | ... | v1_28      | /ɪ/     | [0, 0, 0, ..., 0] (Padding), [0, 0, 0, ..., 0] (Padding), v0, v1, v2, v3, v4 |\n",
        "| 2     | v2_1      | v2_2      | ... | v2_28      | /s/     | [0, 0, 0, ..., 0] (Padding), v0, v1, v2, v3, v4, v5 |\n",
        "| 3     | v3_1      | v3_2      | ... | v3_28      | /ɪ/     | v0, v1, v2, v3, v4, v5, v6 |\n",
        "| 4     | v4_1      | v4_2      | ... | v4_28      | /z/     | v1, v2, v3, v4, v5, v6, v7 |\n",
        "| 5     | v5_1      | v5_2      | ... | v5_28      | /ð/     | v2, v3, v4, v5, v6, v7, v8 |\n",
        "| 6     | v6_1      | v6_2      | ... | v6_28      | /ə/     | v3, v4, v5, v6, v7, v8, v9 |\n",
        "| 7     | v7_1      | v7_2      | ... | v7_28      | /eɪ/    | v4, v5, v6, v7, v8, v9, v10 |\n",
        "| 8     | v8_1      | v8_2      | ... | v8_28      | /dʒ/    | v5, v6, v7, v8, v9, v10, v11 |\n",
        "| 9     | v9_1      | v9_2      | ... | v9_28      | /ə/     | v6, v7, v8, v9, v10, v11, v12 |\n",
        "| 10    | v10_1     | v10_2     | ... | v10_28     | /v/     | v7, v8, v9, v10, v11, v12, v13 |\n",
        "| 11    | v11_1     | v11_2     | ... | v11_28     | /eɪ/    | v8, v9, v10, v11, v12, v13, v14 |\n",
        "| 12    | v12_1     | v12_2     | ... | v12_28     | /aɪ/    | v9, v10, v11, v12, v13, v14, v15 |\n",
        "| 13    | v13_1     | v13_2     | ... | v13_28     | /tʃ/    | v10, v11, v12, v13, v14, v15, v16 |\n",
        "| 14    | v14_1     | v14_2     | ... | v14_28     | /ɛ/     | v11, v12, v13, v14, v15, v16, v17 |\n",
        "| 15    | v15_1     | v15_2     | ... | v15_28     | /l/     | v12, v13, v14, v15, v16, v17, v18 |\n",
        "| 16    | v16_1     | v16_2     | ... | v16_28     | /s/     | v13, v14, v15, v16, v17, v18, v19 |\n",
        "| 17    | v17_1     | v17_2     | ... | v17_28     | /i/     | v14, v15, v16, v17, v18, v19, v20 |\n",
        "| 18    | v18_1     | v18_2     | ... | v18_28     | /s/     | v15, v16, v17, v18, v19, v20, v21 |\n",
        "| 19    | v19_1     | v19_2     | ... | v19_28     | /ʌ/     | v16, v17, v18, v19, v20, v21, [0, 0, 0, ..., 0] (Padding) |\n",
        "| 20    | v20_1     | v20_2     | ... | v20_28     | /k/     | v17, v18, v19, v20, v21, [0, 0, 0, ..., 0] (Padding), [0, 0, 0, ..., 0] (Padding) |\n",
        "| 21    | v21_1     | v21_2     | ... | v21_28     | /s/     | v18, v19, v20, v21, [0, 0, 0, ..., 0] (Padding), [0, 0, 0, ..., 0] (Padding), [0, 0, 0, ..., 0] (Padding) |\n",
        "\n",
        "\n",
        "Now, if you want to predict the output of vector v5, you won't just pass vector v5 alone. You will concatenate 3 vectors before it and 3 vectors after, which makes it 7 vectors ([v2, v3, v4, v5, v6, v7, v8 ]) . This needs to be reflected in your **__getitem__** method. Meaning it should return an array of shape (7, 28), in this example.\n",
        "\n",
        "Hence your model is going to be taking a tensor (array) of shape (7, 28) in this example."
      ]
    },
    {
      "cell_type": "markdown",
      "metadata": {
        "id": "z4vZbDmJvMp1"
      },
      "source": [
        "# Libraries"
      ]
    },
    {
      "cell_type": "code",
      "execution_count": null,
      "metadata": {
        "execution": {
          "iopub.execute_input": "2025-01-18T15:45:13.294259Z",
          "iopub.status.busy": "2025-01-18T15:45:13.293935Z",
          "iopub.status.idle": "2025-01-18T15:45:16.589874Z",
          "shell.execute_reply": "2025-01-18T15:45:16.588762Z",
          "shell.execute_reply.started": "2025-01-18T15:45:13.294226Z"
        },
        "id": "rwYu9sSUnSho",
        "trusted": true
      },
      "outputs": [],
      "source": [
        "!pip install torchsummaryX==1.1.0 wandb --quiet\n"
      ]
    },
    {
      "cell_type": "code",
      "execution_count": null,
      "metadata": {
        "execution": {
          "iopub.execute_input": "2025-01-18T15:45:16.591640Z",
          "iopub.status.busy": "2025-01-18T15:45:16.591296Z",
          "iopub.status.idle": "2025-01-18T15:45:19.851037Z",
          "shell.execute_reply": "2025-01-18T15:45:19.850127Z",
          "shell.execute_reply.started": "2025-01-18T15:45:16.591607Z"
        },
        "id": "ijYNIOkpYrXf",
        "trusted": true
      },
      "outputs": [],
      "source": [
        "!pip install torchaudio --quiet"
      ]
    },
    {
      "cell_type": "code",
      "execution_count": null,
      "metadata": {
        "execution": {
          "iopub.execute_input": "2025-01-18T15:45:27.197960Z",
          "iopub.status.busy": "2025-01-18T15:45:27.197597Z",
          "iopub.status.idle": "2025-01-18T15:45:37.485903Z",
          "shell.execute_reply": "2025-01-18T15:45:37.485079Z",
          "shell.execute_reply.started": "2025-01-18T15:45:27.197928Z"
        },
        "id": "qI4qfx7tiBZt",
        "trusted": true,
        "colab": {
          "base_uri": "https://localhost:8080/"
        },
        "outputId": "209311d3-70a4-4caa-f804-1eaa43373a06"
      },
      "outputs": [
        {
          "output_type": "stream",
          "name": "stdout",
          "text": [
            "Device:  cuda\n"
          ]
        }
      ],
      "source": [
        "import torch\n",
        "import torch.nn as nn\n",
        "import numpy as np\n",
        "from torchsummaryX import summary\n",
        "import sklearn\n",
        "import gc\n",
        "import zipfile\n",
        "import bisect\n",
        "import pandas as pd\n",
        "from tqdm.auto import tqdm\n",
        "import os\n",
        "import datetime\n",
        "import wandb\n",
        "import yaml\n",
        "import torchaudio.transforms as tat\n",
        "import torchaudio\n",
        "device = 'cuda' if torch.cuda.is_available() else 'cpu'\n",
        "print(\"Device: \", device)"
      ]
    },
    {
      "cell_type": "markdown",
      "metadata": {
        "id": "eqsFLqa6rCuc"
      },
      "source": [
        "# Mount Google Drive"
      ]
    },
    {
      "cell_type": "code",
      "execution_count": null,
      "metadata": {
        "id": "Z23Nag1jq_yA",
        "colab": {
          "base_uri": "https://localhost:8080/"
        },
        "outputId": "7b8c454a-4029-4b80-aaf8-efdaba57e8b9"
      },
      "outputs": [
        {
          "output_type": "stream",
          "name": "stdout",
          "text": [
            "Drive already mounted at /content/drive; to attempt to forcibly remount, call drive.mount(\"/content/drive\", force_remount=True).\n"
          ]
        }
      ],
      "source": [
        "''' If you are using colab, you can import google drive to save model checkpoints in a folder\n",
        "    If you want to use it, uncomment the two lines below\n",
        "'''\n",
        "from google.colab import drive\n",
        "drive.mount('/content/drive')"
      ]
    },
    {
      "cell_type": "code",
      "execution_count": null,
      "metadata": {
        "execution": {
          "iopub.execute_input": "2024-12-31T15:17:20.484621Z",
          "iopub.status.busy": "2024-12-31T15:17:20.484276Z",
          "iopub.status.idle": "2024-12-31T15:17:20.489243Z",
          "shell.execute_reply": "2024-12-31T15:17:20.488394Z",
          "shell.execute_reply.started": "2024-12-31T15:17:20.484588Z"
        },
        "id": "N-9qE20hmCgQ",
        "trusted": true
      },
      "outputs": [],
      "source": [
        "### PHONEME LIST\n",
        "PHONEMES = [\n",
        "            '[SIL]',   'AA',    'AE',    'AH',    'AO',    'AW',    'AY',\n",
        "            'B',     'CH',    'D',     'DH',    'EH',    'ER',    'EY',\n",
        "            'F',     'G',     'HH',    'IH',    'IY',    'JH',    'K',\n",
        "            'L',     'M',     'N',     'NG',    'OW',    'OY',    'P',\n",
        "            'R',     'S',     'SH',    'T',     'TH',    'UH',    'UW',\n",
        "            'V',     'W',     'Y',     'Z',     'ZH',    '[SOS]', '[EOS]']"
      ]
    },
    {
      "cell_type": "markdown",
      "metadata": {
        "id": "ZIi0Big7vPa9"
      },
      "source": [
        "# Kaggle"
      ]
    },
    {
      "cell_type": "markdown",
      "metadata": {
        "id": "BBCbeRhixGM7"
      },
      "source": [
        "This section contains code that helps you install kaggle's API, creating kaggle.json with you username and API key details. Make sure to input those in the given code to ensure you can download data from the competition successfully."
      ]
    },
    {
      "cell_type": "code",
      "execution_count": null,
      "metadata": {
        "execution": {
          "iopub.execute_input": "2024-12-24T01:51:36.557771Z",
          "iopub.status.busy": "2024-12-24T01:51:36.557557Z",
          "iopub.status.idle": "2024-12-24T01:51:39.853407Z",
          "shell.execute_reply": "2024-12-24T01:51:39.852241Z",
          "shell.execute_reply.started": "2024-12-24T01:51:36.557752Z"
        },
        "id": "TPBUd7Cnl-Rx",
        "trusted": true,
        "colab": {
          "base_uri": "https://localhost:8080/"
        },
        "outputId": "0816fb67-0464-450c-ea5a-864ab3d9020a"
      },
      "outputs": [
        {
          "output_type": "stream",
          "name": "stdout",
          "text": [
            "Collecting kaggle==1.6.17\n",
            "  Using cached kaggle-1.6.17-py3-none-any.whl\n",
            "Installing collected packages: kaggle\n",
            "  Attempting uninstall: kaggle\n",
            "    Found existing installation: kaggle 1.6.17\n",
            "    Uninstalling kaggle-1.6.17:\n",
            "      Successfully uninstalled kaggle-1.6.17\n",
            "Successfully installed kaggle-1.6.17\n",
            "mkdir: cannot create directory ‘/root/.kaggle’: File exists\n"
          ]
        }
      ],
      "source": [
        "!pip install --upgrade kaggle==1.6.17 --force-reinstall --no-deps\n",
        "!mkdir /root/.kaggle\n",
        "\n",
        "with open(\"/root/.kaggle/kaggle.json\", \"w+\") as f:\n",
        "    # Put your kaggle username & key here\n",
        "    f.write('{\"username\":\"kimiwu570\",\"key\":\"30ab2f3f6f50d7f5872ddd15b83516c1\"}')\n",
        "\n",
        "!chmod 600 /root/.kaggle/kaggle.json"
      ]
    },
    {
      "cell_type": "code",
      "source": [
        "! ls /content"
      ],
      "metadata": {
        "colab": {
          "base_uri": "https://localhost:8080/"
        },
        "id": "jGcy2oLgdZem",
        "outputId": "387e68d1-7cf3-47ea-e67f-06dd29d68f86"
      },
      "execution_count": null,
      "outputs": [
        {
          "output_type": "stream",
          "name": "stdout",
          "text": [
            "11785-s25-hw1p2\t\t      drive\t      sample_data     wandb\n",
            "11785-spring-25-hw-1-p-2.zip  model_arch.txt  submission.csv\n"
          ]
        }
      ]
    },
    {
      "cell_type": "code",
      "execution_count": null,
      "metadata": {
        "execution": {
          "iopub.execute_input": "2024-12-24T01:51:39.854726Z",
          "iopub.status.busy": "2024-12-24T01:51:39.854463Z",
          "iopub.status.idle": "2024-12-24T01:52:39.968030Z",
          "shell.execute_reply": "2024-12-24T01:52:39.967153Z",
          "shell.execute_reply.started": "2024-12-24T01:51:39.854703Z"
        },
        "id": "if2Somqfbje1",
        "trusted": true,
        "colab": {
          "base_uri": "https://localhost:8080/"
        },
        "outputId": "079498b1-9e87-48fb-c578-34b62948a1b8"
      },
      "outputs": [
        {
          "output_type": "stream",
          "name": "stdout",
          "text": [
            "11785-spring-25-hw-1-p-2.zip: Skipping, found more recently modified local copy (use --force to force download)\n"
          ]
        }
      ],
      "source": [
        "# commands to download data from kaggle\n",
        "!kaggle competitions download -c 11785-spring-25-hw-1-p-2\n",
        "\n",
        "# Unzip downloaded data\n",
        "!unzip -qo /content/11785-spring-25-hw-1-p-2.zip -d '/content'"
      ]
    },
    {
      "cell_type": "code",
      "source": [],
      "metadata": {
        "id": "MkYGJfV9hWCa"
      },
      "execution_count": null,
      "outputs": []
    },
    {
      "cell_type": "markdown",
      "metadata": {
        "id": "qNacQ8bpt9nw"
      },
      "source": [
        "# Parameters Configuration"
      ]
    },
    {
      "cell_type": "markdown",
      "metadata": {
        "id": "WE7tsinAuLNy"
      },
      "source": [
        "Storing your parameters and hyperparameters in a single configuration dictionary makes it easier to keep track of them during each experiment. It can also be used with weights and biases to log your parameters for each experiment and keep track of them across multiple experiments."
      ]
    },
    {
      "cell_type": "code",
      "execution_count": null,
      "metadata": {
        "id": "S5gMTwnSnp8K"
      },
      "outputs": [],
      "source": [
        "config = {\n",
        "    'Name': 'Qilin Wu', # Write your name here\n",
        "    'subset': 1.0, # Subset of dataset to use (1.0 == 100% of data)\n",
        "    'context': 20,\n",
        "    'archetype': 'diamond', # Default Values: pyramid, diamond, inverse-pyramid,cylinder\n",
        "    'activations': 'GELU',\n",
        "    'learning_rate': 0.001,\n",
        "    'dropout': 0.25,\n",
        "    'optimizers': 'AdamW',\n",
        "    'scheduler': 'OneCycleLR',\n",
        "    'epochs': 20,\n",
        "    'batch_size': 2048,\n",
        "    'weight_decay': 0.005,\n",
        "    'weight_initialization': None, # e.g kaiming_normal, kaiming_uniform, uniform, xavier_normal or xavier_uniform\n",
        "    'augmentations': 'Both', # Options: [\"FreqMask\", \"TimeMask\", \"Both\", null]\n",
        "    'freq_mask_param': 4,\n",
        "    'time_mask_param': 8\n",
        " }"
      ]
    },
    {
      "cell_type": "code",
      "execution_count": null,
      "metadata": {
        "id": "vzeqgWS9pumb",
        "colab": {
          "base_uri": "https://localhost:8080/"
        },
        "outputId": "4ea6ba50-0ee8-4923-a424-66791a5f30bb"
      },
      "outputs": [
        {
          "output_type": "execute_result",
          "data": {
            "text/plain": [
              "{'Name': 'Qilin Wu',\n",
              " 'subset': 1.0,\n",
              " 'context': 20,\n",
              " 'archetype': 'diamond',\n",
              " 'activations': 'GELU',\n",
              " 'learning_rate': 0.001,\n",
              " 'dropout': 0.25,\n",
              " 'optimizers': 'AdamW',\n",
              " 'scheduler': 'OneCycleLR',\n",
              " 'epochs': 20,\n",
              " 'batch_size': 2048,\n",
              " 'weight_decay': 0.005,\n",
              " 'weight_initialization': None,\n",
              " 'augmentations': 'Both',\n",
              " 'freq_mask_param': 4,\n",
              " 'time_mask_param': 8}"
            ]
          },
          "metadata": {},
          "execution_count": 50
        }
      ],
      "source": [
        "config"
      ]
    },
    {
      "cell_type": "markdown",
      "metadata": {
        "id": "FYeyFHQ1yRi4"
      },
      "source": [
        "# Dataset Class"
      ]
    },
    {
      "cell_type": "markdown",
      "metadata": {
        "id": "2_7QgMbBdgPp"
      },
      "source": [
        "This section covers the dataset/dataloader class for speech data. You will have to spend time writing code to create this class successfully. We have given you a lot of comments guiding you on what code to write at each stage, from top to bottom of the class. Please try and take your time figuring this out, as it will immensely help in creating dataset/dataloader classes for future homeworks.\n",
        "\n",
        "Before running the following cells, please take some time to analyse the structure of data. Try loading a single MFCC and its transcipt, print out the shapes and print out the values. Do the transcripts look like phonemes?"
      ]
    },
    {
      "cell_type": "code",
      "execution_count": null,
      "metadata": {
        "execution": {
          "iopub.execute_input": "2024-12-31T15:17:54.383981Z",
          "iopub.status.busy": "2024-12-31T15:17:54.383641Z",
          "iopub.status.idle": "2024-12-31T15:17:54.394276Z",
          "shell.execute_reply": "2024-12-31T15:17:54.393413Z",
          "shell.execute_reply.started": "2024-12-31T15:17:54.383952Z"
        },
        "id": "HYU4NAH65dSb",
        "trusted": true
      },
      "outputs": [],
      "source": [
        "# Dataset class to load train and validation data\n",
        "\n",
        "class AudioDataset(torch.utils.data.Dataset):\n",
        "\n",
        "    def __init__(self, root, phonemes = PHONEMES, context=0, partition= \"train-clean-100\"): # Feel free to add more arguments\n",
        "\n",
        "        self.context    = context\n",
        "        self.phonemes   = phonemes\n",
        "        self.subset = config['subset']\n",
        "\n",
        "        # TODO: Initialize augmentations. Read the Pytorch torchaudio documentations on timemasking and frequencymasking\n",
        "        self.freq_masking = tat.FrequencyMasking(freq_mask_param=config['freq_mask_param'])\n",
        "        self.time_masking = tat.TimeMasking(time_mask_param=config['time_mask_param'])\n",
        "\n",
        "\n",
        "\n",
        "\n",
        "        # TODO: MFCC directory - use partition to acces train/dev directories from kaggle data using root\n",
        "        self.mfcc_dir       = os.path.join(root, partition, 'mfcc')\n",
        "        # TODO: Transcripts directory - use partition to acces train/dev directories from kaggle data using root\n",
        "        self.transcript_dir = os.path.join(root, partition, 'transcript')\n",
        "        # TODO: List files in sefl.mfcc_dir using os.listdir in SORTED order\n",
        "        mfcc_names          = sorted(os.listdir(self.mfcc_dir))\n",
        "        # TODO: List files in self.transcript_dir using os.listdir in SORTED order\n",
        "        transcript_names    = sorted(os.listdir(self.transcript_dir))\n",
        "\n",
        "        # Compute size of data subset\n",
        "        subset_size = int(self.subset * len(mfcc_names))\n",
        "\n",
        "        # Select subset of data to use\n",
        "        mfcc_names = mfcc_names[:subset_size]\n",
        "        transcript_names = transcript_names[:subset_size]\n",
        "\n",
        "        # Making sure that we have the same no. of mfcc and transcripts\n",
        "        assert len(mfcc_names) == len(transcript_names)\n",
        "\n",
        "        self.mfccs, self.transcripts = [], []\n",
        "\n",
        "\n",
        "        # TODO: Iterate through mfccs and transcripts\n",
        "        for i in tqdm(range(len(mfcc_names))):\n",
        "\n",
        "            # TODO: Load a single mfcc. Hint: Use numpy\n",
        "            mfcc = np.load(os.path.join(self.mfcc_dir, mfcc_names[i]))\n",
        "            # TODO: Do Cepstral Normalization of mfcc along the Time Dimension (Think about the correct axis)\n",
        "            mfccs_normalized = (mfcc - np.mean(mfcc, axis=0)) / (np.std(mfcc, axis=0) + 1e-6)\n",
        "\n",
        "            # Convert mfcc to tensor\n",
        "            mfccs_normalized = torch.tensor(mfccs_normalized, dtype=torch.float32)\n",
        "\n",
        "            # TODO: Load the corresponding transcript\n",
        "            # Remove [SOS] and [EOS] from the transcript\n",
        "            # (Is there an efficient way to do this without traversing through the transcript?)\n",
        "            # Note that SOS will always be in the starting and EOS at end, as the name suggests.\n",
        "            transcript_path = os.path.join(self.transcript_dir, transcript_names[i])\n",
        "            transcript = np.load(transcript_path).tolist()\n",
        "\n",
        "            # Remove [SOS] and [EOS] if they exist\n",
        "            if transcript[0] == '[SOS]' and transcript[-1] == '[EOS]':\n",
        "                transcript = transcript[1:-1]\n",
        "\n",
        "            # The available phonemes in the transcript are of string data type\n",
        "            # But the neural network cannot predict strings as such.\n",
        "            # Hence, we map these phonemes to integers\n",
        "\n",
        "            # TODO: Map the phonemes to their corresponding list indexes in self.phonemes\n",
        "            transcript_indices = [self.phonemes.index(p) for p in transcript]\n",
        "            # Now, if an element in the transcript is 0, it means that it is 'SIL' (as per the above example)\n",
        "\n",
        "            # Convert transcript to tensor\n",
        "            transcript_indices = torch.tensor(transcript_indices, dtype=torch.int64)\n",
        "\n",
        "            # Append each mfcc to self.mfcc, transcript to self.transcript\n",
        "            self.mfccs.append(mfccs_normalized)\n",
        "            self.transcripts.append(transcript_indices)\n",
        "\n",
        "        # NOTE:\n",
        "        # Each mfcc is of shape T1 x 28, T2 x 28, ...\n",
        "        # Each transcript is of shape (T1+2), (T2+2) before removing [SOS] and [EOS]\n",
        "\n",
        "        # TODO: Concatenate all mfccs in self.mfccs such that\n",
        "        # the final shape is T x 28 (Where T = T1 + T2 + ...)\n",
        "        # Hint: Use torch to concatenate\n",
        "        self.mfccs = torch.cat(self.mfccs, dim=0)\n",
        "\n",
        "        # TODO: Concatenate all transcripts in self.transcripts such that\n",
        "        # the final shape is (T,) meaning, each time step has one phoneme output\n",
        "        # Hint: Use torch to concatenate\n",
        "        self.transcripts = torch.cat(self.transcripts, dim=0)\n",
        "\n",
        "        # Length of the dataset is now the length of concatenated mfccs/transcripts\n",
        "        self.length = len(self.mfccs)\n",
        "\n",
        "        # Take some time to think about what we have done.\n",
        "        # self.mfcc is an array of the format (Frames x Features).\n",
        "        # Our goal is to recognize phonemes of each frame\n",
        "\n",
        "        # We can introduce context by padding zeros on top and bottom of self.mfcc\n",
        "        # Hint: Use torch.nn.functional.pad\n",
        "        # torch.nn.functional.pad takes the padding in the form of (left, right, top, bottom) for 2D data\n",
        "        self.mfccs = torch.nn.functional.pad(self.mfccs, (0, 0, self.context, self.context)) # TODO\n",
        "\n",
        "\n",
        "    def __len__(self):\n",
        "        return self.length\n",
        "\n",
        "    def collate_fn(self, batch):\n",
        "      x, y = zip(*batch)\n",
        "      x = torch.stack(x, dim=0)\n",
        "\n",
        "      # Apply augmentations with 70% probability (You can modify the probability)\n",
        "      if np.random.rand() < 0.70:\n",
        "        x = x.transpose(1, 2)  # Shape: (batch_size, freq, time)\n",
        "        x = self.freq_masking(x)\n",
        "        x = self.time_masking(x)\n",
        "        x = x.transpose(1, 2)  # Shape back to: (batch_size, time, freq)\n",
        "\n",
        "      return x, torch.tensor(y)\n",
        "\n",
        "    def __getitem__(self, ind):\n",
        "        # TODO: Based on context and offset, return a frame at given index with context frames to the left, and right.\n",
        "        frames = self.mfccs[ind : ind + 2*self.context + 1]\n",
        "\n",
        "        # After slicing, you get an array of shape 2*context+1 x 28.\n",
        "\n",
        "        phonemes = self.transcripts[ind]\n",
        "\n",
        "        return frames, phonemes\n"
      ]
    },
    {
      "cell_type": "code",
      "execution_count": null,
      "metadata": {
        "execution": {
          "iopub.execute_input": "2024-12-31T15:18:40.554498Z",
          "iopub.status.busy": "2024-12-31T15:18:40.554136Z",
          "iopub.status.idle": "2024-12-31T15:18:40.561523Z",
          "shell.execute_reply": "2024-12-31T15:18:40.560566Z",
          "shell.execute_reply.started": "2024-12-31T15:18:40.554472Z"
        },
        "id": "C0rme6iT5dSb",
        "trusted": true
      },
      "outputs": [],
      "source": [
        "class AudioTestDataset(torch.utils.data.Dataset):\n",
        "    # TODO: Create a test dataset class similar to the previous class but you dont have transcripts for this\n",
        "    # Imp: Read the mfccs in sorted order, do NOT shuffle the data here or in your dataloader.\n",
        "    # IMPORTANT: Load complete test data to use, DO NOT select subset of test data, else you will get errors when submitting on Kaggle.\n",
        "    def __init__(self, root, context=0, partition=\"test-clean\"):\n",
        "        self.context = context\n",
        "        self.mfcc_dir = os.path.join(root, partition, 'mfcc')\n",
        "        # List files in sorted order\n",
        "        mfcc_names = sorted(os.listdir(self.mfcc_dir))\n",
        "        self.mfccs = []\n",
        "        for name in tqdm(mfcc_names, desc=\"Loading test MFCCs\"):\n",
        "            mfcc = np.load(os.path.join(self.mfcc_dir, name))\n",
        "            # Cepstral Normalization\n",
        "            mfcc_normalized = (mfcc - np.mean(mfcc, axis=0)) / (np.std(mfcc, axis=0) + 1e-6)\n",
        "            mfcc_normalized = torch.tensor(mfcc_normalized, dtype=torch.float32)\n",
        "            self.mfccs.append(mfcc_normalized)\n",
        "        # Concatenate all mfccs\n",
        "        self.mfccs = torch.cat(self.mfccs, dim=0)\n",
        "        self.length = self.mfccs.shape[0]\n",
        "        # Pad with context zeros on top and bottom\n",
        "        self.mfccs = torch.nn.functional.pad(self.mfccs, (0, 0, self.context, self.context))\n",
        "\n",
        "    def __len__(self):\n",
        "        return self.length\n",
        "\n",
        "    def __getitem__(self, ind):\n",
        "        frames = self.mfccs[ind : ind + 2*self.context + 1]\n",
        "        return frames\n"
      ]
    },
    {
      "cell_type": "markdown",
      "metadata": {
        "id": "2mlwaKlDt_2c"
      },
      "source": [
        "# Create Datasets"
      ]
    },
    {
      "cell_type": "code",
      "source": [
        "! ls /content/11785-s25-hw1p2/\n"
      ],
      "metadata": {
        "colab": {
          "base_uri": "https://localhost:8080/"
        },
        "id": "wpetglzJoerB",
        "outputId": "61dfb22d-0a65-4a2a-9826-4e8729c371ae"
      },
      "execution_count": null,
      "outputs": [
        {
          "output_type": "stream",
          "name": "stdout",
          "text": [
            "dev-clean  test-clean  train-clean-100\n"
          ]
        }
      ]
    },
    {
      "cell_type": "code",
      "execution_count": null,
      "metadata": {
        "execution": {
          "iopub.execute_input": "2024-12-31T15:19:09.189955Z",
          "iopub.status.busy": "2024-12-31T15:19:09.189592Z",
          "iopub.status.idle": "2024-12-31T15:24:30.163981Z",
          "shell.execute_reply": "2024-12-31T15:24:30.163061Z",
          "shell.execute_reply.started": "2024-12-31T15:19:09.189927Z"
        },
        "id": "gJvMzHhB5dSc",
        "trusted": true,
        "colab": {
          "base_uri": "https://localhost:8080/",
          "height": 113,
          "referenced_widgets": [
            "391fc2aaa7384deea633a4cde390d820",
            "0f01dbb356c046fe8bedc5db7638bcf5",
            "86330acd8b5d42ddb6359b1209dc0b87",
            "7ad4c1e4ed264116b397a209e94f0979",
            "f4a7946a144d4354a4b5e43c36cb7607",
            "3f0908388b114dfdac33cd712b8dd059",
            "1bc85fad132a425aa853af6a1c332b3f",
            "ddcf72c0c50c48d18b0fbc45cba0cb45",
            "539aef7c43504fd2b89f34e2d606bdc5",
            "fa31086e1659461c94428f37c649f146",
            "9e704c130a04415e90a3c65e5a03e0e1",
            "64b692e50cc64d79969cd1264ba4ce47",
            "5482ede555f545cdb6b86bc4d814690b",
            "d71db6e6208a4532b89ad9ca59cb13dc",
            "f99de6ffd4dc466fb8deeb00d058665c",
            "b5d58c4a5a9046b084451945109d28b2",
            "9f7b56af78104528b3fb55350b91167c",
            "5a6b4e28762a46168fc69902afd0cbd0",
            "3840e17d3d1141459e1a5ce0676f3024",
            "5b48d50001f846a0ba16a2acd46ccfc7",
            "c647e9f404564292b0b66f510a1c3e0e",
            "7e5f3f22c6434672aec16c201976f34d",
            "f9280c8f93bc437e9f1426d5beed73b1",
            "d59e26ee22354e389ca02b16faf4cafc",
            "1abc0d385a534f129f3d339b121ee779",
            "dfec6919b48d4bdb815e36e77dc597b7",
            "8d3e7d08229d4f00aa547f512f61aa88",
            "d3e88a2a569f41cf9a162901c02e2658",
            "7cf7e4e74e064ea392759f876940a211",
            "446056e7d937455e89bbc8751ef7cd70",
            "d320f0fcd32847b6aa3f1a61f1ee73ef",
            "f321961267b646eab0c19310bced77db",
            "d971b6e72dae42dea4c988ccfd441e30"
          ]
        },
        "outputId": "77abee69-3345-4b0f-8b64-0c909a06ad5b"
      },
      "outputs": [
        {
          "output_type": "display_data",
          "data": {
            "text/plain": [
              "  0%|          | 0/28539 [00:00<?, ?it/s]"
            ],
            "application/vnd.jupyter.widget-view+json": {
              "version_major": 2,
              "version_minor": 0,
              "model_id": "391fc2aaa7384deea633a4cde390d820"
            }
          },
          "metadata": {}
        },
        {
          "output_type": "display_data",
          "data": {
            "text/plain": [
              "  0%|          | 0/2703 [00:00<?, ?it/s]"
            ],
            "application/vnd.jupyter.widget-view+json": {
              "version_major": 2,
              "version_minor": 0,
              "model_id": "64b692e50cc64d79969cd1264ba4ce47"
            }
          },
          "metadata": {}
        },
        {
          "output_type": "display_data",
          "data": {
            "text/plain": [
              "Loading test MFCCs:   0%|          | 0/2620 [00:00<?, ?it/s]"
            ],
            "application/vnd.jupyter.widget-view+json": {
              "version_major": 2,
              "version_minor": 0,
              "model_id": "f9280c8f93bc437e9f1426d5beed73b1"
            }
          },
          "metadata": {}
        }
      ],
      "source": [
        "ROOT = \"/content/11785-s25-hw1p2\" # Define the root directory of the dataset here\n",
        "# For example, if the dataset is unzipped in the current directory, you can set ROOT = \".\"\n",
        "\n",
        "# TODO: Create a dataset object using the AudioDataset class for the training data\n",
        "train_data = AudioDataset(root=ROOT, context=config['context'], partition=\"train-clean-100\")\n",
        "# TODO: Create a dataset object using the AudioDataset class for the validation data\n",
        "val_data = AudioDataset(root=ROOT, context=config['context'], partition=\"dev-clean\")\n",
        "# TODO: Create a dataset object using the AudioTestDataset class for the test data\n",
        "test_data = AudioTestDataset(root=ROOT, context=config['context'], partition=\"test-clean\")"
      ]
    },
    {
      "cell_type": "code",
      "execution_count": null,
      "metadata": {
        "execution": {
          "iopub.execute_input": "2024-12-31T15:24:37.105100Z",
          "iopub.status.busy": "2024-12-31T15:24:37.104785Z",
          "iopub.status.idle": "2024-12-31T15:24:37.113609Z",
          "shell.execute_reply": "2024-12-31T15:24:37.112725Z",
          "shell.execute_reply.started": "2024-12-31T15:24:37.105072Z"
        },
        "id": "4mzoYfTKu14s",
        "trusted": true,
        "colab": {
          "base_uri": "https://localhost:8080/"
        },
        "outputId": "d8f24dec-a2b5-42cd-a266-f4ac3932e735"
      },
      "outputs": [
        {
          "output_type": "stream",
          "name": "stdout",
          "text": [
            "Batch size     :  2048\n",
            "Context        :  20\n",
            "Input size     :  1148\n",
            "Output symbols :  42\n",
            "Train dataset samples = 36091157, batches = 17623\n",
            "Validation dataset samples = 1928204, batches = 942\n",
            "Test dataset samples = 1934138, batches = 945\n"
          ]
        }
      ],
      "source": [
        "# Define dataloaders for train, val and test datasets\n",
        "# Dataloaders will yield a batch of frames and phonemes of given batch_size at every iteration\n",
        "# We shuffle train dataloader but not val & test dataloader. Why?\n",
        "\n",
        "train_loader = torch.utils.data.DataLoader(\n",
        "    dataset     = train_data,\n",
        "    num_workers = 2,\n",
        "    batch_size  = config['batch_size'],\n",
        "    pin_memory  = True,\n",
        "    shuffle     = True,\n",
        "    collate_fn = train_data.collate_fn\n",
        ")\n",
        "\n",
        "val_loader = torch.utils.data.DataLoader(\n",
        "    dataset     = val_data,\n",
        "    num_workers = 0,\n",
        "    batch_size  = config['batch_size'],\n",
        "    pin_memory  = True,\n",
        "    shuffle     = False\n",
        ")\n",
        "\n",
        "test_loader = torch.utils.data.DataLoader(\n",
        "    dataset     = test_data,\n",
        "    num_workers = 2,\n",
        "    batch_size  = config['batch_size'],\n",
        "    pin_memory  = True,\n",
        "    shuffle     = False\n",
        ")\n",
        "\n",
        "\n",
        "print(\"Batch size     : \", config['batch_size'])\n",
        "print(\"Context        : \", config['context'])\n",
        "print(\"Input size     : \", (2*config['context']+1)*28)\n",
        "print(\"Output symbols : \", len(PHONEMES))\n",
        "\n",
        "print(\"Train dataset samples = {}, batches = {}\".format(train_data.__len__(), len(train_loader)))\n",
        "print(\"Validation dataset samples = {}, batches = {}\".format(val_data.__len__(), len(val_loader)))\n",
        "print(\"Test dataset samples = {}, batches = {}\".format(test_data.__len__(), len(test_loader)))"
      ]
    },
    {
      "cell_type": "code",
      "execution_count": null,
      "metadata": {
        "execution": {
          "iopub.execute_input": "2024-12-31T15:27:30.225789Z",
          "iopub.status.busy": "2024-12-31T15:27:30.225475Z",
          "iopub.status.idle": "2024-12-31T15:27:36.866313Z",
          "shell.execute_reply": "2024-12-31T15:27:36.865100Z",
          "shell.execute_reply.started": "2024-12-31T15:27:30.225762Z"
        },
        "id": "n-GV3UvgLSoF",
        "trusted": true,
        "colab": {
          "base_uri": "https://localhost:8080/",
          "height": 582
        },
        "outputId": "5bdc8729-aa8c-4d8f-edf1-835111582ce0"
      },
      "outputs": [
        {
          "output_type": "stream",
          "name": "stdout",
          "text": [
            "torch.Size([2048, 41, 28]) torch.Size([2048])\n"
          ]
        },
        {
          "output_type": "display_data",
          "data": {
            "text/plain": [
              "<Figure size 1000x600 with 1 Axes>"
            ],
            "image/png": "[encoded data removed]"
          },
          "metadata": {}
        }
      ],
      "source": [
        "import matplotlib.pyplot as plt\n",
        "\n",
        "# Testing code to check if your data loaders are working\n",
        "for i, data in enumerate(train_loader):\n",
        "    frames, phoneme = data\n",
        "    print(frames.shape, phoneme.shape)\n",
        "\n",
        "    # Visualize sample mfcc to inspect and verify everything is correctly done, especially augmentations\n",
        "    plt.figure(figsize=(10, 6))\n",
        "    plt.imshow(frames[0].numpy().T, aspect='auto', origin='lower', cmap='viridis')\n",
        "    plt.xlabel('Time')\n",
        "    plt.ylabel('Features')\n",
        "    plt.title('Feature Representation')\n",
        "    plt.show()\n",
        "\n",
        "    break"
      ]
    },
    {
      "cell_type": "code",
      "execution_count": null,
      "metadata": {
        "execution": {
          "iopub.execute_input": "2024-12-24T02:04:28.807971Z",
          "iopub.status.busy": "2024-12-24T02:04:28.807726Z",
          "iopub.status.idle": "2024-12-24T02:04:58.177819Z",
          "shell.execute_reply": "2024-12-24T02:04:58.176831Z",
          "shell.execute_reply.started": "2024-12-24T02:04:28.807951Z"
        },
        "id": "dJTrLe7J5dSc",
        "trusted": true
      },
      "outputs": [],
      "source": [
        "# Testing code to check if your validation data loaders are working\n",
        "all = []\n",
        "for i, data in enumerate(val_loader):\n",
        "    frames, phoneme = data\n",
        "    all.append(phoneme)\n",
        "    break"
      ]
    },
    {
      "cell_type": "markdown",
      "metadata": {
        "id": "Nxjwve20JRJ2"
      },
      "source": [
        "# Network Architecture\n"
      ]
    },
    {
      "cell_type": "markdown",
      "metadata": {
        "id": "3NJzT-mRw6iy"
      },
      "source": [
        "This section defines your network architecture for the homework. We have given you a sample architecture that can easily clear the very low cutoff for the early submission deadline."
      ]
    },
    {
      "cell_type": "code",
      "execution_count": null,
      "metadata": {
        "execution": {
          "iopub.execute_input": "2024-12-31T15:29:20.193972Z",
          "iopub.status.busy": "2024-12-31T15:29:20.193622Z",
          "iopub.status.idle": "2024-12-31T15:29:20.203743Z",
          "shell.execute_reply": "2024-12-31T15:29:20.202883Z",
          "shell.execute_reply.started": "2024-12-31T15:29:20.193944Z"
        },
        "id": "-YsMpN-Exafq",
        "trusted": true
      },
      "outputs": [],
      "source": [
        "# This architecture will make you cross the very low cutoff\n",
        "# However, you need to run a lot of experiments to cross the medium or high cutoff\n",
        "\n",
        "# class Network(nn.Module):\n",
        "#     def __init__(self, input_size, output_size):\n",
        "#         super(Network, self).__init__()\n",
        "\n",
        "#         self.model = nn.Sequential(\n",
        "#             torch.nn.Linear(input_size, 512),\n",
        "#             torch.nn.ReLU(),\n",
        "#             torch.nn.Linear(512, output_size)\n",
        "#         )\n",
        "\n",
        "#         if config['weight_initialization'] is not None:\n",
        "#             self.initialize_weights()\n",
        "\n",
        "#     def initialize_weights(self):\n",
        "#         for m in self.modules():\n",
        "#             if isinstance(m, torch.nn.Linear):\n",
        "#                 if config[\"weight_initialization\"] == \"xavier_normal\":\n",
        "#                     torch.nn.init.xavier_normal_(m.weight)\n",
        "#                 elif config[\"weight_initialization\"] == \"xavier_uniform\":\n",
        "#                     torch.nn.init.xavier_uniform_(m.weight)\n",
        "#                 elif config[\"weight_initialization\"] == \"kaiming_normal\":\n",
        "#                     torch.nn.init.kaiming_normal_(m.weight, nonlinearity='relu')\n",
        "#                 elif config[\"weight_initialization\"] == \"kaiming_uniform\":\n",
        "#                     torch.nn.init.kaiming_uniform_(m.weight, nonlinearity='relu')\n",
        "#                 elif config[\"weight_initialization\"] == \"uniform\":\n",
        "#                     torch.nn.init.uniform_(m.weight)\n",
        "#                 else:\n",
        "#                     raise ValueError(\"Invalid weight_initialization value\")\n",
        "\n",
        "#                 # Initialize bias to 0\n",
        "#                 m.bias.data.fill_(0)\n",
        "\n",
        "\n",
        "#     def forward(self, x):\n",
        "\n",
        "#         # Flatten to a 1D vector for each data point\n",
        "#         x = torch.flatten(x, start_dim=1)  # Keeps batch size, flattens the rest\n",
        "\n",
        "#         return self.model(x)\n",
        "\n",
        "\n",
        "######## CNN:\n",
        "\n",
        "\n",
        "# class Network(nn.Module):\n",
        "#     def __init__(self, output_size):\n",
        "#         super(Network, self).__init__()\n",
        "#         # Input shape: (batch, 2*context+1, 28); we add a channel dimension below.\n",
        "#         self.conv_block = nn.Sequential(\n",
        "#             nn.Conv2d(1, 32, kernel_size=3, padding=1),  # output: (32, H, 28)\n",
        "#             nn.BatchNorm2d(32),\n",
        "#             nn.ReLU(),\n",
        "#             nn.MaxPool2d(2),  # reduces H and 28 roughly by factor 2\n",
        "\n",
        "#             nn.Conv2d(32, 64, kernel_size=3, padding=1),  # output: (64, H/2, 28/2)\n",
        "#             nn.BatchNorm2d(64),\n",
        "#             nn.ReLU(),\n",
        "#             nn.MaxPool2d(2),\n",
        "\n",
        "#             nn.Conv2d(64, 128, kernel_size=3, padding=1),  # output: (128, H/4, 28/4)\n",
        "#             nn.BatchNorm2d(128),\n",
        "#             nn.ReLU(),\n",
        "#             nn.MaxPool2d(2)\n",
        "#         )\n",
        "#         # Adaptive pooling to ensure a fixed-size output regardless of H (which equals 2*context+1)\n",
        "#         self.adaptive_pool = nn.AdaptiveAvgPool2d((1,1))\n",
        "#         self.dropout = nn.Dropout(0.3)\n",
        "#         self.fc = nn.Linear(128, output_size)\n",
        "\n",
        "#     def forward(self, x):\n",
        "#         # x originally has shape: (batch, 2*context+1, 28)\n",
        "#         x = x.unsqueeze(1)  # now shape: (batch, 1, 2*context+1, 28)\n",
        "#         x = self.conv_block(x)\n",
        "#         x = self.adaptive_pool(x)  # shape: (batch, 128, 1, 1)\n",
        "#         x = x.view(x.size(0), -1)  # flatten to (batch, 128)\n",
        "#         x = self.dropout(x)\n",
        "#         x = self.fc(x)\n",
        "#         return x\n",
        "\n",
        "\n",
        "\n",
        "\n",
        "##### Transformers:\n",
        "\n",
        "import math\n",
        "\n",
        "class PositionalEncoding(nn.Module):\n",
        "    \"\"\"\n",
        "    Standard sine-cosine positional encoding to give the Transformer\n",
        "    a sense of the ordering in the time dimension.\n",
        "    \"\"\"\n",
        "    def __init__(self, d_model, max_len=5000):\n",
        "        super().__init__()\n",
        "        pe = torch.zeros(max_len, d_model)\n",
        "        position = torch.arange(0, max_len, dtype=torch.float).unsqueeze(1)\n",
        "        div_term = torch.exp(torch.arange(0, d_model, 2).float() * (-math.log(10000.0) / d_model))\n",
        "\n",
        "        pe[:, 0::2] = torch.sin(position * div_term)\n",
        "        pe[:, 1::2] = torch.cos(position * div_term)\n",
        "\n",
        "        pe = pe.unsqueeze(0)  # shape: (1, max_len, d_model)\n",
        "        self.register_buffer('pe', pe)\n",
        "\n",
        "    def forward(self, x):\n",
        "        \"\"\"\n",
        "        x shape: (batch, seq_len, d_model)\n",
        "        We add the positional encoding up to seq_len tokens.\n",
        "        \"\"\"\n",
        "        seq_len = x.size(1)\n",
        "        # pe[:, :seq_len] has shape (1, seq_len, d_model)\n",
        "        x = x + self.pe[:, :seq_len, :]\n",
        "        return x\n",
        "\n",
        "\n",
        "class TransformerPhonemeClassifier(nn.Module):\n",
        "    def __init__(\n",
        "        self,\n",
        "        num_classes,\n",
        "        d_model=128,\n",
        "        nhead=4,\n",
        "        num_layers=4,\n",
        "        dim_feedforward=256,\n",
        "        dropout=0.1\n",
        "    ):\n",
        "        \"\"\"\n",
        "        Args:\n",
        "            num_classes      : number of output phonemes\n",
        "            d_model          : size of the Transformer embedding\n",
        "            nhead            : number of attention heads\n",
        "            num_layers       : number of Transformer encoder layers\n",
        "            dim_feedforward  : hidden layer dim in feed-forward sub-block\n",
        "            dropout          : dropout prob inside Transformer\n",
        "        \"\"\"\n",
        "        super().__init__()\n",
        "        self.feature_dim = 28  # given in problem\n",
        "        self.input_linear = nn.Linear(self.feature_dim, d_model)  # project 28 -> d_model\n",
        "\n",
        "        self.pos_encoder = PositionalEncoding(d_model)\n",
        "        encoder_layer = nn.TransformerEncoderLayer(\n",
        "            d_model=d_model,\n",
        "            nhead=nhead,\n",
        "            dim_feedforward=dim_feedforward,\n",
        "            dropout=dropout,\n",
        "            batch_first=True  # <— important in PyTorch 1.10+ to treat batch dim first\n",
        "        )\n",
        "        self.transformer_encoder = nn.TransformerEncoder(encoder_layer, num_layers=num_layers)\n",
        "\n",
        "        self.dropout = nn.Dropout(dropout)\n",
        "        self.output_linear = nn.Linear(d_model, num_classes)\n",
        "\n",
        "    def forward(self, x):\n",
        "        \"\"\"\n",
        "        x shape: (batch_size, seq_len, feature_dim)\n",
        "        seq_len = 2*context + 1\n",
        "        feature_dim = 28\n",
        "        \"\"\"\n",
        "        # 1) Project features -> d_model\n",
        "        x = self.input_linear(x)  # (batch, seq_len, d_model)\n",
        "        # 2) Add positional encoding\n",
        "        x = self.pos_encoder(x)\n",
        "        # 3) Forward pass through Transformer\n",
        "        x = self.transformer_encoder(x)  # (batch, seq_len, d_model)\n",
        "        # 4) Pool across seq_len.  For frame-level classification, try mean-pooling:\n",
        "        x = torch.mean(x, dim=1)  # shape: (batch, d_model)\n",
        "        x = self.dropout(x)\n",
        "        # 5) Output layer\n",
        "        logits = self.output_linear(x)  # shape: (batch, num_classes)\n",
        "        return logits\n"
      ]
    },
    {
      "cell_type": "markdown",
      "metadata": {
        "id": "HejoSXe3vMVU"
      },
      "source": [
        "# Define Model, Loss Function and Optimizer"
      ]
    },
    {
      "cell_type": "markdown",
      "metadata": {
        "id": "xAhGBH7-xxth"
      },
      "source": [
        "Here we define the model, loss function, optimizer and optionally a learning rate scheduler."
      ]
    },
    {
      "cell_type": "code",
      "execution_count": null,
      "metadata": {
        "execution": {
          "iopub.execute_input": "2024-12-31T15:29:23.891053Z",
          "iopub.status.busy": "2024-12-31T15:29:23.890697Z",
          "iopub.status.idle": "2024-12-31T15:29:24.267793Z",
          "shell.execute_reply": "2024-12-31T15:29:24.267100Z",
          "shell.execute_reply.started": "2024-12-31T15:29:23.891023Z"
        },
        "id": "_qtrEM1ZvLje",
        "trusted": true,
        "colab": {
          "base_uri": "https://localhost:8080/"
        },
        "outputId": "d060a0ee-daa7-4143-ed45-6154bedbc103"
      },
      "outputs": [
        {
          "output_type": "stream",
          "name": "stdout",
          "text": [
            "----------------------------------------------------------------------------------------------------\n",
            "Layer                   Kernel Shape         Output Shape         # Params (K)      # Mult-Adds (M)\n",
            "====================================================================================================\n",
            "0_Linear                   [28, 256]      [2048, 41, 256]                 7.42                 0.01\n",
            "1_PositionalEncoding                    -      [2048, 41, 256]                    -                    -\n",
            "2_Dropout                          -      [2048, 41, 256]                    -                    -\n",
            "3_LayerNorm                    [256]      [2048, 41, 256]                 0.51                 0.00\n",
            "4_Linear                  [256, 256]      [2048, 41, 256]                65.79                 0.07\n",
            "5_Dropout                          -      [2048, 41, 256]                    -                    -\n",
            "6_Linear                  [256, 256]      [2048, 41, 256]                65.79                 0.07\n",
            "7_Dropout                          -      [2048, 41, 256]                    -                    -\n",
            "8_LayerNorm                    [256]      [2048, 41, 256]                 0.51                 0.00\n",
            "9_Dropout                          -      [2048, 41, 256]                    -                    -\n",
            "10_LayerNorm                   [256]      [2048, 41, 256]                 0.51                 0.00\n",
            "11_Linear                 [256, 256]      [2048, 41, 256]                65.79                 0.07\n",
            "12_Dropout                         -      [2048, 41, 256]                    -                    -\n",
            "13_Linear                 [256, 256]      [2048, 41, 256]                65.79                 0.07\n",
            "14_Dropout                         -      [2048, 41, 256]                    -                    -\n",
            "15_LayerNorm                   [256]      [2048, 41, 256]                 0.51                 0.00\n",
            "16_Dropout                         -      [2048, 41, 256]                    -                    -\n",
            "17_LayerNorm                   [256]      [2048, 41, 256]                 0.51                 0.00\n",
            "18_Linear                 [256, 256]      [2048, 41, 256]                65.79                 0.07\n",
            "19_Dropout                         -      [2048, 41, 256]                    -                    -\n",
            "20_Linear                 [256, 256]      [2048, 41, 256]                65.79                 0.07\n",
            "21_Dropout                         -      [2048, 41, 256]                    -                    -\n",
            "22_LayerNorm                   [256]      [2048, 41, 256]                 0.51                 0.00\n",
            "23_Dropout                         -      [2048, 41, 256]                    -                    -\n",
            "24_LayerNorm                   [256]      [2048, 41, 256]                 0.51                 0.00\n",
            "25_Linear                 [256, 256]      [2048, 41, 256]                65.79                 0.07\n",
            "26_Dropout                         -      [2048, 41, 256]                    -                    -\n",
            "27_Linear                 [256, 256]      [2048, 41, 256]                65.79                 0.07\n",
            "28_Dropout                         -      [2048, 41, 256]                    -                    -\n",
            "29_LayerNorm                   [256]      [2048, 41, 256]                 0.51                 0.00\n",
            "30_Dropout                         -      [2048, 41, 256]                    -                    -\n",
            "31_LayerNorm                   [256]      [2048, 41, 256]                 0.51                 0.00\n",
            "32_Linear                 [256, 256]      [2048, 41, 256]                65.79                 0.07\n",
            "33_Dropout                         -      [2048, 41, 256]                    -                    -\n",
            "34_Linear                 [256, 256]      [2048, 41, 256]                65.79                 0.07\n",
            "35_Dropout                         -      [2048, 41, 256]                    -                    -\n",
            "36_LayerNorm                   [256]      [2048, 41, 256]                 0.51                 0.00\n",
            "37_Dropout                         -      [2048, 41, 256]                    -                    -\n",
            "38_LayerNorm                   [256]      [2048, 41, 256]                 0.51                 0.00\n",
            "39_Linear                 [256, 256]      [2048, 41, 256]                65.79                 0.07\n",
            "40_Dropout                         -      [2048, 41, 256]                    -                    -\n",
            "41_Linear                 [256, 256]      [2048, 41, 256]                65.79                 0.07\n",
            "42_Dropout                         -      [2048, 41, 256]                    -                    -\n",
            "43_LayerNorm                   [256]      [2048, 41, 256]                 0.51                 0.00\n",
            "44_Dropout                         -      [2048, 41, 256]                    -                    -\n",
            "45_LayerNorm                   [256]      [2048, 41, 256]                 0.51                 0.00\n",
            "46_Linear                 [256, 256]      [2048, 41, 256]                65.79                 0.07\n",
            "47_Dropout                         -      [2048, 41, 256]                    -                    -\n",
            "48_Linear                 [256, 256]      [2048, 41, 256]                65.79                 0.07\n",
            "49_Dropout                         -      [2048, 41, 256]                    -                    -\n",
            "50_LayerNorm                   [256]      [2048, 41, 256]                 0.51                 0.00\n",
            "51_Dropout                         -      [2048, 41, 256]                    -                    -\n",
            "52_LayerNorm                   [256]      [2048, 41, 256]                 0.51                 0.00\n",
            "53_Linear                 [256, 256]      [2048, 41, 256]                65.79                 0.07\n",
            "54_Dropout                         -      [2048, 41, 256]                    -                    -\n",
            "55_Linear                 [256, 256]      [2048, 41, 256]                65.79                 0.07\n",
            "56_Dropout                         -      [2048, 41, 256]                    -                    -\n",
            "57_LayerNorm                   [256]      [2048, 41, 256]                 0.51                 0.00\n",
            "58_Dropout                         -          [2048, 256]                    -                    -\n",
            "59_Linear                  [256, 42]           [2048, 42]                10.79                 0.01\n",
            "====================================================================================================\n",
            "# Params:    1,079.08K\n",
            "# Mult-Adds: 1.07M\n",
            "----------------------------------------------------------------------------------------------------\n"
          ]
        }
      ],
      "source": [
        "INPUT_SIZE  = (2*config['context'] + 1) * 28 # Why is this the case?\n",
        "# model       = Network(INPUT_SIZE, len(train_data.phonemes)).to(device).cuda()\n",
        "model = TransformerPhonemeClassifier(num_classes=len(train_data.phonemes)).to(device).cuda()\n",
        "\n",
        "summary(model, frames.to(device))\n",
        "# Check number of parameters of your network\n",
        "# Remember, you are limited to 20 million parameters for HW1 (including ensembles)"
      ]
    },
    {
      "cell_type": "markdown",
      "metadata": {
        "id": "uSk4YP63TBnD"
      },
      "source": [
        "# Define Model, Loss Function and Optimizer"
      ]
    },
    {
      "cell_type": "markdown",
      "metadata": {
        "id": "cwdxl4RiTBnD"
      },
      "source": [
        "Here we define the model, loss function, optimizer and optionally a learning rate scheduler."
      ]
    },
    {
      "cell_type": "code",
      "execution_count": null,
      "metadata": {
        "execution": {
          "iopub.execute_input": "2024-12-31T15:29:28.681502Z",
          "iopub.status.busy": "2024-12-31T15:29:28.681153Z",
          "iopub.status.idle": "2024-12-31T15:29:29.386622Z",
          "shell.execute_reply": "2024-12-31T15:29:29.385517Z",
          "shell.execute_reply.started": "2024-12-31T15:29:28.681476Z"
        },
        "id": "kZgQ7AgyTBnE",
        "trusted": true
      },
      "outputs": [],
      "source": [
        "criterion = torch.nn.CrossEntropyLoss(label_smoothing=0.1)# Defining Loss function.\n",
        "# We use CE because the task is multi-class classification\n",
        "\n",
        "optimizer = torch.optim.AdamW(model.parameters(), lr=config['learning_rate'])\n",
        "\n",
        "from torch.optim.lr_scheduler import OneCycleLR\n",
        "\n",
        "# Number of total training steps\n",
        "steps_per_epoch = len(train_loader)\n",
        "max_lr = config['learning_rate']  # e.g., 0.0005 or 0.001\n",
        "scheduler = OneCycleLR(\n",
        "    optimizer,\n",
        "    max_lr=max_lr,\n",
        "    steps_per_epoch=steps_per_epoch,\n",
        "    epochs=config['epochs'],\n",
        "    pct_start=0.1,\n",
        "    anneal_strategy='cos',\n",
        "    div_factor=25.0  # scale factor for initial lr\n",
        ")\n",
        "\n",
        "\n",
        "# Is your training time very high?\n",
        "# Look into mixed precision training if your GPU (Tesla T4, V100, etc) can make use of it\n",
        "# Refer - https://pytorch.org/docs/stable/notes/amp_examples.html\n",
        "# Mixed Precision Training with AMP for speedup\n",
        "scaler = torch.amp.GradScaler('cuda', enabled=True)"
      ]
    },
    {
      "cell_type": "markdown",
      "metadata": {
        "id": "IBwunYpyugFg"
      },
      "source": [
        "# Training and Validation Functions"
      ]
    },
    {
      "cell_type": "markdown",
      "metadata": {
        "id": "1JgeNhx4x2-P"
      },
      "source": [
        "This section covers the training, and validation functions for each epoch of running your experiment with a given model architecture. The code has been provided to you, but we recommend going through the comments to understand the workflow to enable you to write these loops for future HWs."
      ]
    },
    {
      "cell_type": "code",
      "execution_count": null,
      "metadata": {
        "execution": {
          "iopub.execute_input": "2024-12-31T15:29:33.552602Z",
          "iopub.status.busy": "2024-12-31T15:29:33.551839Z",
          "iopub.status.idle": "2024-12-31T15:29:33.739892Z",
          "shell.execute_reply": "2024-12-31T15:29:33.739136Z",
          "shell.execute_reply.started": "2024-12-31T15:29:33.552569Z"
        },
        "id": "XblOHEVtKab2",
        "trusted": true,
        "colab": {
          "base_uri": "https://localhost:8080/"
        },
        "outputId": "d1c27cde-f449-4c65-8e34-cfffeb0a8d68"
      },
      "outputs": [
        {
          "output_type": "execute_result",
          "data": {
            "text/plain": [
              "0"
            ]
          },
          "metadata": {},
          "execution_count": 63
        }
      ],
      "source": [
        "# CLEAR RAM!!\n",
        "torch.cuda.empty_cache()\n",
        "gc.collect()"
      ]
    },
    {
      "cell_type": "code",
      "execution_count": null,
      "metadata": {
        "execution": {
          "iopub.execute_input": "2024-12-31T15:29:35.533310Z",
          "iopub.status.busy": "2024-12-31T15:29:35.532955Z",
          "iopub.status.idle": "2024-12-31T15:29:35.539902Z",
          "shell.execute_reply": "2024-12-31T15:29:35.539084Z",
          "shell.execute_reply.started": "2024-12-31T15:29:35.533280Z"
        },
        "id": "8wjPz7DHqKcL",
        "trusted": true
      },
      "outputs": [],
      "source": [
        "def train(model, dataloader, optimizer, criterion):\n",
        "\n",
        "    model.train()\n",
        "    tloss, tacc = 0, 0 # Monitoring loss and accuracy\n",
        "    batch_bar   = tqdm(total=len(train_loader), dynamic_ncols=True, leave=False, position=0, desc='Train')\n",
        "\n",
        "    for i, (frames, phonemes) in enumerate(dataloader):\n",
        "\n",
        "        ### Initialize Gradients\n",
        "        optimizer.zero_grad()\n",
        "\n",
        "        frames      = frames.to(device)\n",
        "        phonemes    = phonemes.to(device)\n",
        "\n",
        "        with torch.autocast(device_type=device, dtype=torch.float16):\n",
        "            ### Forward Propagation\n",
        "            logits  = model(frames)\n",
        "\n",
        "            ### Loss Calculation\n",
        "            loss    = criterion(logits, phonemes)\n",
        "\n",
        "        ### Backward Propagation\n",
        "        scaler.scale(loss).backward()\n",
        "        scaler.unscale_(optimizer)\n",
        "        torch.nn.utils.clip_grad_norm_(model.parameters(), max_norm=5.0)\n",
        "\n",
        "\n",
        "        # OPTIONAL: You can add gradient clipping here, if you face issues of exploding gradients\n",
        "\n",
        "        ### Gradient Descent\n",
        "        scaler.step(optimizer)\n",
        "        scaler.update()\n",
        "        scheduler.step()\n",
        "\n",
        "        tloss   += loss.item()\n",
        "        tacc    += torch.sum(torch.argmax(logits, dim= 1) == phonemes).item()/logits.shape[0]\n",
        "\n",
        "        batch_bar.set_postfix(loss=\"{:.04f}\".format(float(tloss / (i + 1))),\n",
        "                              acc=\"{:.04f}%\".format(float(tacc*100 / (i + 1))))\n",
        "        batch_bar.update()\n",
        "\n",
        "        if not torch.isfinite(loss):\n",
        "          print(f\"Skipping step due to NaN loss at batch {i}\")\n",
        "          continue\n",
        "\n",
        "        ### Release memory\n",
        "        del frames, phonemes, logits\n",
        "        torch.cuda.empty_cache()\n",
        "\n",
        "\n",
        "    batch_bar.close()\n",
        "    tloss   /= len(train_loader)\n",
        "    tacc    /= len(train_loader)\n",
        "\n",
        "\n",
        "\n",
        "    return tloss, tacc"
      ]
    },
    {
      "cell_type": "code",
      "execution_count": null,
      "metadata": {
        "execution": {
          "iopub.execute_input": "2024-12-31T15:29:39.024010Z",
          "iopub.status.busy": "2024-12-31T15:29:39.023658Z",
          "iopub.status.idle": "2024-12-31T15:29:39.030046Z",
          "shell.execute_reply": "2024-12-31T15:29:39.029273Z",
          "shell.execute_reply.started": "2024-12-31T15:29:39.023980Z"
        },
        "id": "Q5npQNFH315V",
        "trusted": true
      },
      "outputs": [],
      "source": [
        "def eval(model, dataloader):\n",
        "\n",
        "    model.eval() # set model in evaluation mode\n",
        "    vloss, vacc = 0, 0 # Monitoring loss and accuracy\n",
        "    batch_bar   = tqdm(total=len(val_loader), dynamic_ncols=True, position=0, leave=False, desc='Val')\n",
        "\n",
        "    for i, (frames, phonemes) in enumerate(dataloader):\n",
        "\n",
        "        ### Move data to device (ideally GPU)\n",
        "        frames      = frames.to(device)\n",
        "        phonemes    = phonemes.to(device)\n",
        "\n",
        "        # makes sure that there are no gradients computed as we are not training the model now\n",
        "        with torch.inference_mode():\n",
        "            ### Forward Propagation\n",
        "            logits  = model(frames)\n",
        "            ### Loss Calculation\n",
        "            loss    = criterion(logits, phonemes)\n",
        "\n",
        "        vloss   += loss.item()\n",
        "        vacc    += torch.sum(torch.argmax(logits, dim= 1) == phonemes).item()/logits.shape[0]\n",
        "\n",
        "        # Do you think we need loss.backward() and optimizer.step() here?\n",
        "\n",
        "        batch_bar.set_postfix(loss=\"{:.04f}\".format(float(vloss / (i + 1))),\n",
        "                              acc=\"{:.04f}%\".format(float(vacc*100 / (i + 1))))\n",
        "        batch_bar.update()\n",
        "\n",
        "        ### Release memory\n",
        "        del frames, phonemes, logits\n",
        "        torch.cuda.empty_cache()\n",
        "\n",
        "    batch_bar.close()\n",
        "    vloss   /= len(val_loader)\n",
        "    vacc    /= len(val_loader)\n",
        "\n",
        "    return vloss, vacc"
      ]
    },
    {
      "cell_type": "markdown",
      "metadata": {
        "id": "yMd_XxPku5qp"
      },
      "source": [
        "# Weights and Biases Setup"
      ]
    },
    {
      "cell_type": "markdown",
      "metadata": {
        "id": "tjIbhR1wwbgI"
      },
      "source": [
        "This section is to enable logging metrics and files with Weights and Biases. Please refer to wandb documentationa and recitation 0 that covers the use of weights and biases for logging, hyperparameter tuning and monitoring your runs for your homeworks. Using this tool makes it very easy to show results when submitting your code and models for homeworks, and also extremely useful for study groups to organize and run ablations under a single team in wandb.\n",
        "\n",
        "We have written code for you to make use of it out of the box, so that you start using wandb for all your HWs from the beginning."
      ]
    },
    {
      "cell_type": "code",
      "execution_count": null,
      "metadata": {
        "execution": {
          "iopub.execute_input": "2024-12-31T15:29:45.702653Z",
          "iopub.status.busy": "2024-12-31T15:29:45.702239Z",
          "iopub.status.idle": "2024-12-31T15:29:52.086338Z",
          "shell.execute_reply": "2024-12-31T15:29:52.085568Z",
          "shell.execute_reply.started": "2024-12-31T15:29:45.702611Z"
        },
        "id": "SCDYx5VEu6qI",
        "trusted": true,
        "colab": {
          "base_uri": "https://localhost:8080/"
        },
        "outputId": "72e5dc9f-dac2-4abb-a95e-2abd034f5130"
      },
      "outputs": [
        {
          "output_type": "stream",
          "name": "stderr",
          "text": [
            "\u001b[34m\u001b[1mwandb\u001b[0m: \u001b[33mWARNING\u001b[0m If you're specifying your api key in code, ensure this code is not shared publicly.\n",
            "\u001b[34m\u001b[1mwandb\u001b[0m: \u001b[33mWARNING\u001b[0m Consider setting the WANDB_API_KEY environment variable, or running `wandb login` from the command line.\n",
            "\u001b[34m\u001b[1mwandb\u001b[0m: Appending key for api.wandb.ai to your netrc file: /root/.netrc\n"
          ]
        },
        {
          "output_type": "execute_result",
          "data": {
            "text/plain": [
              "True"
            ]
          },
          "metadata": {},
          "execution_count": 66
        }
      ],
      "source": [
        "wandb.login(key=\"e8b15639e8fc1b678ef7e1b74f3cab7a22ea15b5\") #API Key is in your wandb account, under settings (wandb.ai/settings)"
      ]
    },
    {
      "cell_type": "code",
      "execution_count": null,
      "metadata": {
        "execution": {
          "iopub.execute_input": "2024-12-31T15:29:54.895747Z",
          "iopub.status.busy": "2024-12-31T15:29:54.895254Z",
          "iopub.status.idle": "2024-12-31T15:30:01.107921Z",
          "shell.execute_reply": "2024-12-31T15:30:01.106993Z",
          "shell.execute_reply.started": "2024-12-31T15:29:54.895723Z"
        },
        "id": "xvUnYd3Bw2up",
        "trusted": true,
        "colab": {
          "base_uri": "https://localhost:8080/",
          "height": 104
        },
        "outputId": "ed9f5ec7-cc63-42ec-ae03-070099f107cf"
      },
      "outputs": [
        {
          "output_type": "display_data",
          "data": {
            "text/plain": [
              "<IPython.core.display.HTML object>"
            ],
            "text/html": [
              "Tracking run with wandb version 0.19.6"
            ]
          },
          "metadata": {}
        },
        {
          "output_type": "display_data",
          "data": {
            "text/plain": [
              "<IPython.core.display.HTML object>"
            ],
            "text/html": [
              "Run data is saved locally in <code>/content/wandb/run-20250209_062449-a7wpxj84</code>"
            ]
          },
          "metadata": {}
        },
        {
          "output_type": "display_data",
          "data": {
            "text/plain": [
              "<IPython.core.display.HTML object>"
            ],
            "text/html": [
              "Syncing run <strong><a href='https://wandb.ai/qilinw-carnegie-mellon-university/hw1p2/runs/a7wpxj84' target=\"_blank\">first-run1</a></strong> to <a href='https://wandb.ai/qilinw-carnegie-mellon-university/hw1p2' target=\"_blank\">Weights & Biases</a> (<a href='https://wandb.me/developer-guide' target=\"_blank\">docs</a>)<br>"
            ]
          },
          "metadata": {}
        },
        {
          "output_type": "display_data",
          "data": {
            "text/plain": [
              "<IPython.core.display.HTML object>"
            ],
            "text/html": [
              " View project at <a href='https://wandb.ai/qilinw-carnegie-mellon-university/hw1p2' target=\"_blank\">https://wandb.ai/qilinw-carnegie-mellon-university/hw1p2</a>"
            ]
          },
          "metadata": {}
        },
        {
          "output_type": "display_data",
          "data": {
            "text/plain": [
              "<IPython.core.display.HTML object>"
            ],
            "text/html": [
              " View run at <a href='https://wandb.ai/qilinw-carnegie-mellon-university/hw1p2/runs/a7wpxj84' target=\"_blank\">https://wandb.ai/qilinw-carnegie-mellon-university/hw1p2/runs/a7wpxj84</a>"
            ]
          },
          "metadata": {}
        }
      ],
      "source": [
        "# Create your wandb run\n",
        "run = wandb.init(\n",
        "    name    = \"first-run1\", ### Wandb creates random run names if you skip this field, we recommend you give useful names\n",
        "    reinit  = True, ### Allows reinitalizing runs when you re-run this cell\n",
        "    #id     = \"\", ### Insert specific run id here if you want to resume a previous run\n",
        "    #resume = \"must\", ### You need this to resume previous runs, but comment out reinit = True when using this\n",
        "    project = \"hw1p2\", ### Project should be created in your wandb account\n",
        "    config  = config ### Wandb Config for your run\n",
        ")"
      ]
    },
    {
      "cell_type": "code",
      "execution_count": null,
      "metadata": {
        "execution": {
          "iopub.execute_input": "2024-12-31T15:30:12.132356Z",
          "iopub.status.busy": "2024-12-31T15:30:12.131957Z",
          "iopub.status.idle": "2024-12-31T15:30:12.142067Z",
          "shell.execute_reply": "2024-12-31T15:30:12.141280Z",
          "shell.execute_reply.started": "2024-12-31T15:30:12.132322Z"
        },
        "id": "wft15E_IxYFi",
        "trusted": true,
        "colab": {
          "base_uri": "https://localhost:8080/"
        },
        "outputId": "33b099d9-8cd5-4291-c431-52f258994d04"
      },
      "outputs": [
        {
          "output_type": "execute_result",
          "data": {
            "text/plain": [
              "['/content/wandb/run-20250209_062449-a7wpxj84/files/model_arch.txt']"
            ]
          },
          "metadata": {},
          "execution_count": 68
        }
      ],
      "source": [
        "### Save your model architecture as a string with str(model)\n",
        "model_arch  = str(model)\n",
        "\n",
        "### Save it in a txt file\n",
        "arch_file   = open(\"model_arch.txt\", \"w\")\n",
        "file_write  = arch_file.write(model_arch)\n",
        "arch_file.close()\n",
        "\n",
        "### log it in your wandb run with wandb.save()\n",
        "wandb.save('model_arch.txt')"
      ]
    },
    {
      "cell_type": "markdown",
      "metadata": {
        "id": "nclx_04fu7Dd"
      },
      "source": [
        "# Experiment"
      ]
    },
    {
      "cell_type": "markdown",
      "metadata": {
        "id": "MdLMWfEpyGOB"
      },
      "source": [
        "Now, it is time to finally run your ablations! Have fun!"
      ]
    },
    {
      "cell_type": "code",
      "execution_count": null,
      "metadata": {
        "execution": {
          "iopub.execute_input": "2024-12-31T15:30:23.248062Z",
          "iopub.status.busy": "2024-12-31T15:30:23.247745Z"
        },
        "id": "4NNCA5DDTBnO",
        "trusted": true,
        "colab": {
          "base_uri": "https://localhost:8080/",
          "height": 85,
          "referenced_widgets": [
            "b47dacf39362455c9f79cc545ea08b0c",
            "8d018358720b4cfabd94ba696a49a981",
            "251dcb0715fe4eef8f056a48ac053145",
            "bf1c7ff7528e48828e2b942b11eece44",
            "7fc78c2f311744aabcac126762015337",
            "820b853e112a489f9543ec744b49fb7c",
            "e162be96b3964c5484c687ed1edf0e92",
            "923e55fa81b9431591971fc234e27a4a",
            "91d39ce14faa46c59bb8f6db8a9e750d",
            "e5b74b164e4547a4805e963e66657c76",
            "53f8804af4624cfcbb28c90ecebac51f"
          ]
        },
        "outputId": "cbc9a0b7-b1cf-4402-89ca-8783552fd291"
      },
      "outputs": [
        {
          "output_type": "stream",
          "name": "stdout",
          "text": [
            "\n",
            "Epoch 1/20\n"
          ]
        },
        {
          "output_type": "display_data",
          "data": {
            "text/plain": [
              "Train:   0%|          | 0/17623 [00:00<?, ?it/s]"
            ],
            "application/vnd.jupyter.widget-view+json": {
              "version_major": 2,
              "version_minor": 0,
              "model_id": "b47dacf39362455c9f79cc545ea08b0c"
            }
          },
          "metadata": {}
        }
      ],
      "source": [
        "# Iterate over number of epochs to train and evaluate your model\n",
        "torch.cuda.empty_cache()\n",
        "gc.collect()\n",
        "wandb.watch(model, log=\"all\")\n",
        "\n",
        "for epoch in range(config['epochs']):\n",
        "\n",
        "    print(\"\\nEpoch {}/{}\".format(epoch+1, config['epochs']))\n",
        "\n",
        "    curr_lr                 = float(optimizer.param_groups[0]['lr'])\n",
        "    train_loss, train_acc   = train(model, train_loader, optimizer, criterion)\n",
        "    val_loss, val_acc       = eval(model, val_loader)\n",
        "\n",
        "    print(\"\\tTrain Acc {:.04f}%\\tTrain Loss {:.04f}\\t Learning Rate {:.07f}\".format(train_acc*100, train_loss, curr_lr))\n",
        "    print(\"\\tVal Acc {:.04f}%\\tVal Loss {:.04f}\".format(val_acc*100, val_loss))\n",
        "\n",
        "    ## Log metrics at each epoch in your run\n",
        "    # Optionally, you can log at each batch inside train/eval functions\n",
        "    # (explore wandb documentation/wandb recitation)\n",
        "    wandb.log({'train_acc': train_acc*100, 'train_loss': train_loss,\n",
        "               'val_acc': val_acc*100, 'valid_loss': val_loss, 'lr': curr_lr})\n",
        "\n",
        "    # If using a scheduler, step the learning rate here, otherwise comment this line\n",
        "    # Depending on the scheduler in use, you may or may not need to pass in a metric into the step function, so read the docs well\n",
        "    scheduler.step(val_acc)\n",
        "\n",
        "    ## Highly Recommended: Save checkpoint in drive and/or wandb if accuracy is better than your current best"
      ]
    },
    {
      "cell_type": "markdown",
      "metadata": {
        "id": "_kXwf5YUo_4A"
      },
      "source": [
        "# Testing and submission to Kaggle"
      ]
    },
    {
      "cell_type": "markdown",
      "metadata": {
        "id": "WI1hSFYLpJvH"
      },
      "source": [
        "Before we get to the following code, make sure to see the format of submission given in *sample_submission.csv*. Once you have done so, it is time to fill the following function to complete your inference on test data. Refer the eval function from previous cells to get an idea of how to go about completing this function."
      ]
    },
    {
      "cell_type": "code",
      "execution_count": null,
      "metadata": {
        "execution": {
          "iopub.execute_input": "2024-12-24T02:20:10.371165Z",
          "iopub.status.busy": "2024-12-24T02:20:10.370733Z",
          "iopub.status.idle": "2024-12-24T02:20:10.378449Z",
          "shell.execute_reply": "2024-12-24T02:20:10.377340Z",
          "shell.execute_reply.started": "2024-12-24T02:20:10.371126Z"
        },
        "id": "ijLrIJFl5dSf",
        "trusted": true
      },
      "outputs": [],
      "source": [
        "def test(model, test_loader):\n",
        "    ### What you call for model to perform inference?\n",
        "    model.eval() # TODO train or eval?\n",
        "\n",
        "    ### List to store predicted phonemes of test data\n",
        "    test_predictions = []\n",
        "\n",
        "    ### Which mode do you need to avoid gradients?\n",
        "    with torch.inference_mode(): # TODO\n",
        "\n",
        "        for i, mfccs in enumerate(tqdm(test_loader)):\n",
        "\n",
        "            mfccs   = mfccs.to(device)\n",
        "\n",
        "            logits  = model(mfccs)\n",
        "\n",
        "            ### Get most likely predicted phoneme with argmax\n",
        "            predicted_phonemes = torch.argmax(logits, dim=1)\n",
        "\n",
        "            ### How do you store predicted_phonemes with test_predictions? Hint, look at eval\n",
        "            # Remember the phonemes were converted to their corresponding integer indices earlier, and the results of the argmax is a list of the indices of the predicted phonemes.\n",
        "            # So how do you get and store the actual predicted phonemes\n",
        "            # TODO: Store predicted_phonemes\n",
        "            test_predictions.extend([PHONEMES[idx] for idx in predicted_phonemes.cpu().numpy()])\n",
        "\n",
        "    return test_predictions"
      ]
    },
    {
      "cell_type": "code",
      "execution_count": null,
      "metadata": {
        "execution": {
          "iopub.execute_input": "2024-12-24T02:21:22.050782Z",
          "iopub.status.busy": "2024-12-24T02:21:22.050471Z",
          "iopub.status.idle": "2024-12-24T02:22:10.946756Z",
          "shell.execute_reply": "2024-12-24T02:22:10.945858Z",
          "shell.execute_reply.started": "2024-12-24T02:21:22.050753Z"
        },
        "id": "wG9v6Xmxu7wp",
        "trusted": true,
        "colab": {
          "base_uri": "https://localhost:8080/",
          "height": 853,
          "referenced_widgets": [
            "f92e77c462324530beb3d5f63228f351",
            "b03feb42dfb1479b932dae0ddc383270",
            "8f384890e0ac431690e87d9cfbb471b8",
            "b1b4961477124f85a5ce6dc103cf4840",
            "997e0726953c4530a6c65f170ec9e752",
            "d51823bad4654371a6cd1f6d79047972",
            "a95df7687f544620a81eb8d1970e8bc3",
            "7e94f21d58b643bf9ef58f30b8dd18f7",
            "d7a9fb1eeacd4c2eafb33f3b8eb06654",
            "aa435ebb48384030b833151c9f4cec2f",
            "8a94cbbd0f1a454f8d3c47d1eb4accfc"
          ]
        },
        "outputId": "6752da27-a987-4aeb-a37a-03dc4b979174"
      },
      "outputs": [
        {
          "output_type": "stream",
          "name": "stderr",
          "text": [
            "Exception ignored in: <function _MultiProcessingDataLoaderIter.__del__ at 0x7b4618325ee0>"
          ]
        },
        {
          "output_type": "display_data",
          "data": {
            "text/plain": [
              "  0%|          | 0/945 [00:00<?, ?it/s]"
            ],
            "application/vnd.jupyter.widget-view+json": {
              "version_major": 2,
              "version_minor": 0,
              "model_id": "f92e77c462324530beb3d5f63228f351"
            }
          },
          "metadata": {}
        },
        {
          "output_type": "stream",
          "name": "stderr",
          "text": [
            "\n",
            "Traceback (most recent call last):\n",
            "  File \"/usr/local/lib/python3.11/dist-packages/torch/utils/data/dataloader.py\", line 1604, in __del__\n",
            "    self._shutdown_workers()\n",
            "  File \"/usr/local/lib/python3.11/dist-packages/torch/utils/data/dataloader.py\", line 1587, in _shutdown_workers\n",
            "    if w.is_alive():\n",
            "       ^^^^^^Exception ignored in: ^<function _MultiProcessingDataLoaderIter.__del__ at 0x7b4618325ee0>^\n",
            "^Traceback (most recent call last):\n",
            "^  File \"/usr/local/lib/python3.11/dist-packages/torch/utils/data/dataloader.py\", line 1604, in __del__\n",
            "^^    \n",
            "self._shutdown_workers()  File \"/usr/lib/python3.11/multiprocessing/process.py\", line 160, in is_alive\n",
            "\n",
            "      File \"/usr/local/lib/python3.11/dist-packages/torch/utils/data/dataloader.py\", line 1587, in _shutdown_workers\n",
            "assert self._parent_pid == os.getpid(), 'can only test a child process'\n",
            "     if w.is_alive(): \n",
            "                ^^^^^^^^^^^^^^^^^^^^^^^^\n",
            "^  File \"/usr/lib/python3.11/multiprocessing/process.py\", line 160, in is_alive\n",
            "^    ^assert self._parent_pid == os.getpid(), 'can only test a child process'^\n",
            "^ ^ ^ ^ ^ ^ ^ ^ ^^ ^ ^ ^^^^^^\n",
            "^AssertionError^: ^can only test a child process^\n",
            "^^^Exception ignored in: ^<function _MultiProcessingDataLoaderIter.__del__ at 0x7b4618325ee0>^\n",
            "^Traceback (most recent call last):\n",
            "^  File \"/usr/local/lib/python3.11/dist-packages/torch/utils/data/dataloader.py\", line 1604, in __del__\n",
            "^    ^self._shutdown_workers()^\n",
            "^  File \"/usr/local/lib/python3.11/dist-packages/torch/utils/data/dataloader.py\", line 1587, in _shutdown_workers\n",
            "^^    ^if w.is_alive():^\n",
            "^ ^ ^ ^ ^ ^ ^ ^^^^\n",
            "^AssertionError^: ^can only test a child process^\n",
            "^^Exception ignored in: ^<function _MultiProcessingDataLoaderIter.__del__ at 0x7b4618325ee0>^\n",
            "^Traceback (most recent call last):\n",
            "^  File \"/usr/local/lib/python3.11/dist-packages/torch/utils/data/dataloader.py\", line 1604, in __del__\n",
            "\n",
            "      File \"/usr/lib/python3.11/multiprocessing/process.py\", line 160, in is_alive\n",
            "self._shutdown_workers()    \n",
            "  File \"/usr/local/lib/python3.11/dist-packages/torch/utils/data/dataloader.py\", line 1587, in _shutdown_workers\n",
            "assert self._parent_pid == os.getpid(), 'can only test a child process'\n",
            "     if w.is_alive(): \n",
            "             ^ ^ ^ ^^^^^^^^^^^^^^^^^\n",
            "^  File \"/usr/lib/python3.11/multiprocessing/process.py\", line 160, in is_alive\n",
            "^    ^assert self._parent_pid == os.getpid(), 'can only test a child process'^\n",
            "^ ^ ^ ^ ^ ^ ^ ^ ^ ^ ^ ^^^^^^^^^^^^^^^^\n",
            "^AssertionError^: ^can only test a child process^\n",
            "^^^^^^^^^^^^^^^^^^^\n",
            "AssertionError: can only test a child process\n"
          ]
        }
      ],
      "source": [
        "predictions = test(model, test_loader)"
      ]
    },
    {
      "cell_type": "code",
      "execution_count": null,
      "metadata": {
        "execution": {
          "iopub.execute_input": "2024-12-24T02:22:12.849873Z",
          "iopub.status.busy": "2024-12-24T02:22:12.849571Z",
          "iopub.status.idle": "2024-12-24T02:22:14.184114Z",
          "shell.execute_reply": "2024-12-24T02:22:14.183417Z",
          "shell.execute_reply.started": "2024-12-24T02:22:12.849849Z"
        },
        "id": "_I6AVEY45dSg",
        "trusted": true
      },
      "outputs": [],
      "source": [
        "### Create CSV file with predictions\n",
        "with open(\"./submission.csv\", \"w+\") as f:\n",
        "    f.write(\"id,label\\n\")\n",
        "    for i in range(len(predictions)):\n",
        "        f.write(\"{},{}\\n\".format(i, predictions[i]))"
      ]
    },
    {
      "cell_type": "code",
      "execution_count": null,
      "metadata": {
        "execution": {
          "iopub.execute_input": "2024-12-24T02:22:17.280785Z",
          "iopub.status.busy": "2024-12-24T02:22:17.280510Z",
          "iopub.status.idle": "2024-12-24T02:22:18.714924Z",
          "shell.execute_reply": "2024-12-24T02:22:18.714234Z",
          "shell.execute_reply.started": "2024-12-24T02:22:17.280761Z"
        },
        "id": "6Wf-P25TXU0N",
        "trusted": true
      },
      "outputs": [],
      "source": [
        "### Finish your wandb run\n",
        "run.finish()"
      ]
    },
    {
      "cell_type": "code",
      "execution_count": null,
      "metadata": {
        "execution": {
          "execution_failed": "2024-12-24T01:53:07.886Z"
        },
        "id": "LjcammuCxMKN",
        "trusted": true,
        "colab": {
          "base_uri": "https://localhost:8080/"
        },
        "outputId": "681091f2-1253-4742-f467-646a7383ce45"
      },
      "outputs": [
        {
          "output_type": "stream",
          "name": "stdout",
          "text": [
            "100% 19.3M/19.3M [00:03<00:00, 6.49MB/s]\n",
            "Successfully submitted to 11785_Spring25_HW1P2"
          ]
        }
      ],
      "source": [
        "### Submit to kaggle competition using kaggle API (Uncomment below to use)\n",
        "!kaggle competitions submit -c 11785-spring-25-hw-1-p-2 -f /content/submission.csv -m \"Test Submission\"\n",
        "\n",
        "### However, its always safer to download the csv file and then upload to kaggle"
      ]
    },
    {
      "cell_type": "code",
      "source": [
        "!kaggle competitions submit -c 11785-spring-25-hw-1-p-2-slack -f /content/submission.csv -m \"Test Submission\""
      ],
      "metadata": {
        "colab": {
          "base_uri": "https://localhost:8080/"
        },
        "id": "X6h51RcMD-yp",
        "outputId": "2520990e-45b7-4f3d-87dd-1dde5dbde0bb"
      },
      "execution_count": null,
      "outputs": [
        {
          "output_type": "stream",
          "name": "stdout",
          "text": [
            "100% 19.3M/19.3M [00:03<00:00, 6.54MB/s]\n",
            "Successfully submitted to 11785_Spring25_HW1P2 Slack"
          ]
        }
      ]
    },
    {
      "cell_type": "code",
      "source": [],
      "metadata": {
        "id": "Q4oLGXtQCH3S"
      },
      "execution_count": null,
      "outputs": []
    }
  ],
  "metadata": {
    "accelerator": "GPU",
    "colab": {
      "gpuType": "T4",
      "machine_shape": "hm",
      "provenance": [],
      "include_colab_link": true
    },
    "kaggle": {
      "accelerator": "nvidiaTeslaT4",
      "dataSources": [
        {
          "databundleVersionId": 10829548,
          "sourceId": 90913,
          "sourceType": "competition"
        }
      ],
      "dockerImageVersionId": 30840,
      "isGpuEnabled": true,
      "isInternetEnabled": true,
      "language": "python",
      "sourceType": "notebook"
    },
    "kernelspec": {
      "display_name": "Python 3",
      "name": "python3"
    },
    "language_info": {
      "codemirror_mode": {
        "name": "ipython",
        "version": 3
      },
      "file_extension": ".py",
      "mimetype": "text/x-python",
      "name": "python",
      "nbconvert_exporter": "python",
      "pygments_lexer": "ipython3",
      "version": "3.8.20"
    },
    "vscode": {
      "interpreter": {
        "hash": "b0fa6594d8f4cbf19f97940f81e996739fb7646882a419484c72d19e05852a7e"
      }
    },
    "widgets": {
      "application/vnd.jupyter.widget-state+json": {
        "391fc2aaa7384deea633a4cde390d820": {
          "model_module": "@jupyter-widgets/controls",
          "model_name": "HBoxModel",
          "model_module_version": "1.5.0",
          "state": {
            "_dom_classes": [],
            "_model_module": "@jupyter-widgets/controls",
            "_model_module_version": "1.5.0",
            "_model_name": "HBoxModel",
            "_view_count": null,
            "_view_module": "@jupyter-widgets/controls",
            "_view_module_version": "1.5.0",
            "_view_name": "HBoxView",
            "box_style": "",
            "children": [
              "IPY_MODEL_0f01dbb356c046fe8bedc5db7638bcf5",
              "IPY_MODEL_86330acd8b5d42ddb6359b1209dc0b87",
              "IPY_MODEL_7ad4c1e4ed264116b397a209e94f0979"
            ],
            "layout": "IPY_MODEL_f4a7946a144d4354a4b5e43c36cb7607"
          }
        },
        "0f01dbb356c046fe8bedc5db7638bcf5": {
          "model_module": "@jupyter-widgets/controls",
          "model_name": "HTMLModel",
          "model_module_version": "1.5.0",
          "state": {
            "_dom_classes": [],
            "_model_module": "@jupyter-widgets/controls",
            "_model_module_version": "1.5.0",
            "_model_name": "HTMLModel",
            "_view_count": null,
            "_view_module": "@jupyter-widgets/controls",
            "_view_module_version": "1.5.0",
            "_view_name": "HTMLView",
            "description": "",
            "description_tooltip": null,
            "layout": "IPY_MODEL_3f0908388b114dfdac33cd712b8dd059",
            "placeholder": "​",
            "style": "IPY_MODEL_1bc85fad132a425aa853af6a1c332b3f",
            "value": "100%"
          }
        },
        "86330acd8b5d42ddb6359b1209dc0b87": {
          "model_module": "@jupyter-widgets/controls",
          "model_name": "FloatProgressModel",
          "model_module_version": "1.5.0",
          "state": {
            "_dom_classes": [],
            "_model_module": "@jupyter-widgets/controls",
            "_model_module_version": "1.5.0",
            "_model_name": "FloatProgressModel",
            "_view_count": null,
            "_view_module": "@jupyter-widgets/controls",
            "_view_module_version": "1.5.0",
            "_view_name": "ProgressView",
            "bar_style": "success",
            "description": "",
            "description_tooltip": null,
            "layout": "IPY_MODEL_ddcf72c0c50c48d18b0fbc45cba0cb45",
            "max": 28539,
            "min": 0,
            "orientation": "horizontal",
            "style": "IPY_MODEL_539aef7c43504fd2b89f34e2d606bdc5",
            "value": 28539
          }
        },
        "7ad4c1e4ed264116b397a209e94f0979": {
          "model_module": "@jupyter-widgets/controls",
          "model_name": "HTMLModel",
          "model_module_version": "1.5.0",
          "state": {
            "_dom_classes": [],
            "_model_module": "@jupyter-widgets/controls",
            "_model_module_version": "1.5.0",
            "_model_name": "HTMLModel",
            "_view_count": null,
            "_view_module": "@jupyter-widgets/controls",
            "_view_module_version": "1.5.0",
            "_view_name": "HTMLView",
            "description": "",
            "description_tooltip": null,
            "layout": "IPY_MODEL_fa31086e1659461c94428f37c649f146",
            "placeholder": "​",
            "style": "IPY_MODEL_9e704c130a04415e90a3c65e5a03e0e1",
            "value": " 28539/28539 [00:41&lt;00:00, 683.76it/s]"
          }
        },
        "f4a7946a144d4354a4b5e43c36cb7607": {
          "model_module": "@jupyter-widgets/base",
          "model_name": "LayoutModel",
          "model_module_version": "1.2.0",
          "state": {
            "_model_module": "@jupyter-widgets/base",
            "_model_module_version": "1.2.0",
            "_model_name": "LayoutModel",
            "_view_count": null,
            "_view_module": "@jupyter-widgets/base",
            "_view_module_version": "1.2.0",
            "_view_name": "LayoutView",
            "align_content": null,
            "align_items": null,
            "align_self": null,
            "border": null,
            "bottom": null,
            "display": null,
            "flex": null,
            "flex_flow": null,
            "grid_area": null,
            "grid_auto_columns": null,
            "grid_auto_flow": null,
            "grid_auto_rows": null,
            "grid_column": null,
            "grid_gap": null,
            "grid_row": null,
            "grid_template_areas": null,
            "grid_template_columns": null,
            "grid_template_rows": null,
            "height": null,
            "justify_content": null,
            "justify_items": null,
            "left": null,
            "margin": null,
            "max_height": null,
            "max_width": null,
            "min_height": null,
            "min_width": null,
            "object_fit": null,
            "object_position": null,
            "order": null,
            "overflow": null,
            "overflow_x": null,
            "overflow_y": null,
            "padding": null,
            "right": null,
            "top": null,
            "visibility": null,
            "width": null
          }
        },
        "3f0908388b114dfdac33cd712b8dd059": {
          "model_module": "@jupyter-widgets/base",
          "model_name": "LayoutModel",
          "model_module_version": "1.2.0",
          "state": {
            "_model_module": "@jupyter-widgets/base",
            "_model_module_version": "1.2.0",
            "_model_name": "LayoutModel",
            "_view_count": null,
            "_view_module": "@jupyter-widgets/base",
            "_view_module_version": "1.2.0",
            "_view_name": "LayoutView",
            "align_content": null,
            "align_items": null,
            "align_self": null,
            "border": null,
            "bottom": null,
            "display": null,
            "flex": null,
            "flex_flow": null,
            "grid_area": null,
            "grid_auto_columns": null,
            "grid_auto_flow": null,
            "grid_auto_rows": null,
            "grid_column": null,
            "grid_gap": null,
            "grid_row": null,
            "grid_template_areas": null,
            "grid_template_columns": null,
            "grid_template_rows": null,
            "height": null,
            "justify_content": null,
            "justify_items": null,
            "left": null,
            "margin": null,
            "max_height": null,
            "max_width": null,
            "min_height": null,
            "min_width": null,
            "object_fit": null,
            "object_position": null,
            "order": null,
            "overflow": null,
            "overflow_x": null,
            "overflow_y": null,
            "padding": null,
            "right": null,
            "top": null,
            "visibility": null,
            "width": null
          }
        },
        "1bc85fad132a425aa853af6a1c332b3f": {
          "model_module": "@jupyter-widgets/controls",
          "model_name": "DescriptionStyleModel",
          "model_module_version": "1.5.0",
          "state": {
            "_model_module": "@jupyter-widgets/controls",
            "_model_module_version": "1.5.0",
            "_model_name": "DescriptionStyleModel",
            "_view_count": null,
            "_view_module": "@jupyter-widgets/base",
            "_view_module_version": "1.2.0",
            "_view_name": "StyleView",
            "description_width": ""
          }
        },
        "ddcf72c0c50c48d18b0fbc45cba0cb45": {
          "model_module": "@jupyter-widgets/base",
          "model_name": "LayoutModel",
          "model_module_version": "1.2.0",
          "state": {
            "_model_module": "@jupyter-widgets/base",
            "_model_module_version": "1.2.0",
            "_model_name": "LayoutModel",
            "_view_count": null,
            "_view_module": "@jupyter-widgets/base",
            "_view_module_version": "1.2.0",
            "_view_name": "LayoutView",
            "align_content": null,
            "align_items": null,
            "align_self": null,
            "border": null,
            "bottom": null,
            "display": null,
            "flex": null,
            "flex_flow": null,
            "grid_area": null,
            "grid_auto_columns": null,
            "grid_auto_flow": null,
            "grid_auto_rows": null,
            "grid_column": null,
            "grid_gap": null,
            "grid_row": null,
            "grid_template_areas": null,
            "grid_template_columns": null,
            "grid_template_rows": null,
            "height": null,
            "justify_content": null,
            "justify_items": null,
            "left": null,
            "margin": null,
            "max_height": null,
            "max_width": null,
            "min_height": null,
            "min_width": null,
            "object_fit": null,
            "object_position": null,
            "order": null,
            "overflow": null,
            "overflow_x": null,
            "overflow_y": null,
            "padding": null,
            "right": null,
            "top": null,
            "visibility": null,
            "width": null
          }
        },
        "539aef7c43504fd2b89f34e2d606bdc5": {
          "model_module": "@jupyter-widgets/controls",
          "model_name": "ProgressStyleModel",
          "model_module_version": "1.5.0",
          "state": {
            "_model_module": "@jupyter-widgets/controls",
            "_model_module_version": "1.5.0",
            "_model_name": "ProgressStyleModel",
            "_view_count": null,
            "_view_module": "@jupyter-widgets/base",
            "_view_module_version": "1.2.0",
            "_view_name": "StyleView",
            "bar_color": null,
            "description_width": ""
          }
        },
        "fa31086e1659461c94428f37c649f146": {
          "model_module": "@jupyter-widgets/base",
          "model_name": "LayoutModel",
          "model_module_version": "1.2.0",
          "state": {
            "_model_module": "@jupyter-widgets/base",
            "_model_module_version": "1.2.0",
            "_model_name": "LayoutModel",
            "_view_count": null,
            "_view_module": "@jupyter-widgets/base",
            "_view_module_version": "1.2.0",
            "_view_name": "LayoutView",
            "align_content": null,
            "align_items": null,
            "align_self": null,
            "border": null,
            "bottom": null,
            "display": null,
            "flex": null,
            "flex_flow": null,
            "grid_area": null,
            "grid_auto_columns": null,
            "grid_auto_flow": null,
            "grid_auto_rows": null,
            "grid_column": null,
            "grid_gap": null,
            "grid_row": null,
            "grid_template_areas": null,
            "grid_template_columns": null,
            "grid_template_rows": null,
            "height": null,
            "justify_content": null,
            "justify_items": null,
            "left": null,
            "margin": null,
            "max_height": null,
            "max_width": null,
            "min_height": null,
            "min_width": null,
            "object_fit": null,
            "object_position": null,
            "order": null,
            "overflow": null,
            "overflow_x": null,
            "overflow_y": null,
            "padding": null,
            "right": null,
            "top": null,
            "visibility": null,
            "width": null
          }
        },
        "9e704c130a04415e90a3c65e5a03e0e1": {
          "model_module": "@jupyter-widgets/controls",
          "model_name": "DescriptionStyleModel",
          "model_module_version": "1.5.0",
          "state": {
            "_model_module": "@jupyter-widgets/controls",
            "_model_module_version": "1.5.0",
            "_model_name": "DescriptionStyleModel",
            "_view_count": null,
            "_view_module": "@jupyter-widgets/base",
            "_view_module_version": "1.2.0",
            "_view_name": "StyleView",
            "description_width": ""
          }
        },
        "64b692e50cc64d79969cd1264ba4ce47": {
          "model_module": "@jupyter-widgets/controls",
          "model_name": "HBoxModel",
          "model_module_version": "1.5.0",
          "state": {
            "_dom_classes": [],
            "_model_module": "@jupyter-widgets/controls",
            "_model_module_version": "1.5.0",
            "_model_name": "HBoxModel",
            "_view_count": null,
            "_view_module": "@jupyter-widgets/controls",
            "_view_module_version": "1.5.0",
            "_view_name": "HBoxView",
            "box_style": "",
            "children": [
              "IPY_MODEL_5482ede555f545cdb6b86bc4d814690b",
              "IPY_MODEL_d71db6e6208a4532b89ad9ca59cb13dc",
              "IPY_MODEL_f99de6ffd4dc466fb8deeb00d058665c"
            ],
            "layout": "IPY_MODEL_b5d58c4a5a9046b084451945109d28b2"
          }
        },
        "5482ede555f545cdb6b86bc4d814690b": {
          "model_module": "@jupyter-widgets/controls",
          "model_name": "HTMLModel",
          "model_module_version": "1.5.0",
          "state": {
            "_dom_classes": [],
            "_model_module": "@jupyter-widgets/controls",
            "_model_module_version": "1.5.0",
            "_model_name": "HTMLModel",
            "_view_count": null,
            "_view_module": "@jupyter-widgets/controls",
            "_view_module_version": "1.5.0",
            "_view_name": "HTMLView",
            "description": "",
            "description_tooltip": null,
            "layout": "IPY_MODEL_9f7b56af78104528b3fb55350b91167c",
            "placeholder": "​",
            "style": "IPY_MODEL_5a6b4e28762a46168fc69902afd0cbd0",
            "value": "100%"
          }
        },
        "d71db6e6208a4532b89ad9ca59cb13dc": {
          "model_module": "@jupyter-widgets/controls",
          "model_name": "FloatProgressModel",
          "model_module_version": "1.5.0",
          "state": {
            "_dom_classes": [],
            "_model_module": "@jupyter-widgets/controls",
            "_model_module_version": "1.5.0",
            "_model_name": "FloatProgressModel",
            "_view_count": null,
            "_view_module": "@jupyter-widgets/controls",
            "_view_module_version": "1.5.0",
            "_view_name": "ProgressView",
            "bar_style": "success",
            "description": "",
            "description_tooltip": null,
            "layout": "IPY_MODEL_3840e17d3d1141459e1a5ce0676f3024",
            "max": 2703,
            "min": 0,
            "orientation": "horizontal",
            "style": "IPY_MODEL_5b48d50001f846a0ba16a2acd46ccfc7",
            "value": 2703
          }
        },
        "f99de6ffd4dc466fb8deeb00d058665c": {
          "model_module": "@jupyter-widgets/controls",
          "model_name": "HTMLModel",
          "model_module_version": "1.5.0",
          "state": {
            "_dom_classes": [],
            "_model_module": "@jupyter-widgets/controls",
            "_model_module_version": "1.5.0",
            "_model_name": "HTMLModel",
            "_view_count": null,
            "_view_module": "@jupyter-widgets/controls",
            "_view_module_version": "1.5.0",
            "_view_name": "HTMLView",
            "description": "",
            "description_tooltip": null,
            "layout": "IPY_MODEL_c647e9f404564292b0b66f510a1c3e0e",
            "placeholder": "​",
            "style": "IPY_MODEL_7e5f3f22c6434672aec16c201976f34d",
            "value": " 2703/2703 [00:02&lt;00:00, 1036.37it/s]"
          }
        },
        "b5d58c4a5a9046b084451945109d28b2": {
          "model_module": "@jupyter-widgets/base",
          "model_name": "LayoutModel",
          "model_module_version": "1.2.0",
          "state": {
            "_model_module": "@jupyter-widgets/base",
            "_model_module_version": "1.2.0",
            "_model_name": "LayoutModel",
            "_view_count": null,
            "_view_module": "@jupyter-widgets/base",
            "_view_module_version": "1.2.0",
            "_view_name": "LayoutView",
            "align_content": null,
            "align_items": null,
            "align_self": null,
            "border": null,
            "bottom": null,
            "display": null,
            "flex": null,
            "flex_flow": null,
            "grid_area": null,
            "grid_auto_columns": null,
            "grid_auto_flow": null,
            "grid_auto_rows": null,
            "grid_column": null,
            "grid_gap": null,
            "grid_row": null,
            "grid_template_areas": null,
            "grid_template_columns": null,
            "grid_template_rows": null,
            "height": null,
            "justify_content": null,
            "justify_items": null,
            "left": null,
            "margin": null,
            "max_height": null,
            "max_width": null,
            "min_height": null,
            "min_width": null,
            "object_fit": null,
            "object_position": null,
            "order": null,
            "overflow": null,
            "overflow_x": null,
            "overflow_y": null,
            "padding": null,
            "right": null,
            "top": null,
            "visibility": null,
            "width": null
          }
        },
        "9f7b56af78104528b3fb55350b91167c": {
          "model_module": "@jupyter-widgets/base",
          "model_name": "LayoutModel",
          "model_module_version": "1.2.0",
          "state": {
            "_model_module": "@jupyter-widgets/base",
            "_model_module_version": "1.2.0",
            "_model_name": "LayoutModel",
            "_view_count": null,
            "_view_module": "@jupyter-widgets/base",
            "_view_module_version": "1.2.0",
            "_view_name": "LayoutView",
            "align_content": null,
            "align_items": null,
            "align_self": null,
            "border": null,
            "bottom": null,
            "display": null,
            "flex": null,
            "flex_flow": null,
            "grid_area": null,
            "grid_auto_columns": null,
            "grid_auto_flow": null,
            "grid_auto_rows": null,
            "grid_column": null,
            "grid_gap": null,
            "grid_row": null,
            "grid_template_areas": null,
            "grid_template_columns": null,
            "grid_template_rows": null,
            "height": null,
            "justify_content": null,
            "justify_items": null,
            "left": null,
            "margin": null,
            "max_height": null,
            "max_width": null,
            "min_height": null,
            "min_width": null,
            "object_fit": null,
            "object_position": null,
            "order": null,
            "overflow": null,
            "overflow_x": null,
            "overflow_y": null,
            "padding": null,
            "right": null,
            "top": null,
            "visibility": null,
            "width": null
          }
        },
        "5a6b4e28762a46168fc69902afd0cbd0": {
          "model_module": "@jupyter-widgets/controls",
          "model_name": "DescriptionStyleModel",
          "model_module_version": "1.5.0",
          "state": {
            "_model_module": "@jupyter-widgets/controls",
            "_model_module_version": "1.5.0",
            "_model_name": "DescriptionStyleModel",
            "_view_count": null,
            "_view_module": "@jupyter-widgets/base",
            "_view_module_version": "1.2.0",
            "_view_name": "StyleView",
            "description_width": ""
          }
        },
        "3840e17d3d1141459e1a5ce0676f3024": {
          "model_module": "@jupyter-widgets/base",
          "model_name": "LayoutModel",
          "model_module_version": "1.2.0",
          "state": {
            "_model_module": "@jupyter-widgets/base",
            "_model_module_version": "1.2.0",
            "_model_name": "LayoutModel",
            "_view_count": null,
            "_view_module": "@jupyter-widgets/base",
            "_view_module_version": "1.2.0",
            "_view_name": "LayoutView",
            "align_content": null,
            "align_items": null,
            "align_self": null,
            "border": null,
            "bottom": null,
            "display": null,
            "flex": null,
            "flex_flow": null,
            "grid_area": null,
            "grid_auto_columns": null,
            "grid_auto_flow": null,
            "grid_auto_rows": null,
            "grid_column": null,
            "grid_gap": null,
            "grid_row": null,
            "grid_template_areas": null,
            "grid_template_columns": null,
            "grid_template_rows": null,
            "height": null,
            "justify_content": null,
            "justify_items": null,
            "left": null,
            "margin": null,
            "max_height": null,
            "max_width": null,
            "min_height": null,
            "min_width": null,
            "object_fit": null,
            "object_position": null,
            "order": null,
            "overflow": null,
            "overflow_x": null,
            "overflow_y": null,
            "padding": null,
            "right": null,
            "top": null,
            "visibility": null,
            "width": null
          }
        },
        "5b48d50001f846a0ba16a2acd46ccfc7": {
          "model_module": "@jupyter-widgets/controls",
          "model_name": "ProgressStyleModel",
          "model_module_version": "1.5.0",
          "state": {
            "_model_module": "@jupyter-widgets/controls",
            "_model_module_version": "1.5.0",
            "_model_name": "ProgressStyleModel",
            "_view_count": null,
            "_view_module": "@jupyter-widgets/base",
            "_view_module_version": "1.2.0",
            "_view_name": "StyleView",
            "bar_color": null,
            "description_width": ""
          }
        },
        "c647e9f404564292b0b66f510a1c3e0e": {
          "model_module": "@jupyter-widgets/base",
          "model_name": "LayoutModel",
          "model_module_version": "1.2.0",
          "state": {
            "_model_module": "@jupyter-widgets/base",
            "_model_module_version": "1.2.0",
            "_model_name": "LayoutModel",
            "_view_count": null,
            "_view_module": "@jupyter-widgets/base",
            "_view_module_version": "1.2.0",
            "_view_name": "LayoutView",
            "align_content": null,
            "align_items": null,
            "align_self": null,
            "border": null,
            "bottom": null,
            "display": null,
            "flex": null,
            "flex_flow": null,
            "grid_area": null,
            "grid_auto_columns": null,
            "grid_auto_flow": null,
            "grid_auto_rows": null,
            "grid_column": null,
            "grid_gap": null,
            "grid_row": null,
            "grid_template_areas": null,
            "grid_template_columns": null,
            "grid_template_rows": null,
            "height": null,
            "justify_content": null,
            "justify_items": null,
            "left": null,
            "margin": null,
            "max_height": null,
            "max_width": null,
            "min_height": null,
            "min_width": null,
            "object_fit": null,
            "object_position": null,
            "order": null,
            "overflow": null,
            "overflow_x": null,
            "overflow_y": null,
            "padding": null,
            "right": null,
            "top": null,
            "visibility": null,
            "width": null
          }
        },
        "7e5f3f22c6434672aec16c201976f34d": {
          "model_module": "@jupyter-widgets/controls",
          "model_name": "DescriptionStyleModel",
          "model_module_version": "1.5.0",
          "state": {
            "_model_module": "@jupyter-widgets/controls",
            "_model_module_version": "1.5.0",
            "_model_name": "DescriptionStyleModel",
            "_view_count": null,
            "_view_module": "@jupyter-widgets/base",
            "_view_module_version": "1.2.0",
            "_view_name": "StyleView",
            "description_width": ""
          }
        },
        "f9280c8f93bc437e9f1426d5beed73b1": {
          "model_module": "@jupyter-widgets/controls",
          "model_name": "HBoxModel",
          "model_module_version": "1.5.0",
          "state": {
            "_dom_classes": [],
            "_model_module": "@jupyter-widgets/controls",
            "_model_module_version": "1.5.0",
            "_model_name": "HBoxModel",
            "_view_count": null,
            "_view_module": "@jupyter-widgets/controls",
            "_view_module_version": "1.5.0",
            "_view_name": "HBoxView",
            "box_style": "",
            "children": [
              "IPY_MODEL_d59e26ee22354e389ca02b16faf4cafc",
              "IPY_MODEL_1abc0d385a534f129f3d339b121ee779",
              "IPY_MODEL_dfec6919b48d4bdb815e36e77dc597b7"
            ],
            "layout": "IPY_MODEL_8d3e7d08229d4f00aa547f512f61aa88"
          }
        },
        "d59e26ee22354e389ca02b16faf4cafc": {
          "model_module": "@jupyter-widgets/controls",
          "model_name": "HTMLModel",
          "model_module_version": "1.5.0",
          "state": {
            "_dom_classes": [],
            "_model_module": "@jupyter-widgets/controls",
            "_model_module_version": "1.5.0",
            "_model_name": "HTMLModel",
            "_view_count": null,
            "_view_module": "@jupyter-widgets/controls",
            "_view_module_version": "1.5.0",
            "_view_name": "HTMLView",
            "description": "",
            "description_tooltip": null,
            "layout": "IPY_MODEL_d3e88a2a569f41cf9a162901c02e2658",
            "placeholder": "​",
            "style": "IPY_MODEL_7cf7e4e74e064ea392759f876940a211",
            "value": "Loading test MFCCs: 100%"
          }
        },
        "1abc0d385a534f129f3d339b121ee779": {
          "model_module": "@jupyter-widgets/controls",
          "model_name": "FloatProgressModel",
          "model_module_version": "1.5.0",
          "state": {
            "_dom_classes": [],
            "_model_module": "@jupyter-widgets/controls",
            "_model_module_version": "1.5.0",
            "_model_name": "FloatProgressModel",
            "_view_count": null,
            "_view_module": "@jupyter-widgets/controls",
            "_view_module_version": "1.5.0",
            "_view_name": "ProgressView",
            "bar_style": "success",
            "description": "",
            "description_tooltip": null,
            "layout": "IPY_MODEL_446056e7d937455e89bbc8751ef7cd70",
            "max": 2620,
            "min": 0,
            "orientation": "horizontal",
            "style": "IPY_MODEL_d320f0fcd32847b6aa3f1a61f1ee73ef",
            "value": 2620
          }
        },
        "dfec6919b48d4bdb815e36e77dc597b7": {
          "model_module": "@jupyter-widgets/controls",
          "model_name": "HTMLModel",
          "model_module_version": "1.5.0",
          "state": {
            "_dom_classes": [],
            "_model_module": "@jupyter-widgets/controls",
            "_model_module_version": "1.5.0",
            "_model_name": "HTMLModel",
            "_view_count": null,
            "_view_module": "@jupyter-widgets/controls",
            "_view_module_version": "1.5.0",
            "_view_name": "HTMLView",
            "description": "",
            "description_tooltip": null,
            "layout": "IPY_MODEL_f321961267b646eab0c19310bced77db",
            "placeholder": "​",
            "style": "IPY_MODEL_d971b6e72dae42dea4c988ccfd441e30",
            "value": " 2620/2620 [00:01&lt;00:00, 2195.29it/s]"
          }
        },
        "8d3e7d08229d4f00aa547f512f61aa88": {
          "model_module": "@jupyter-widgets/base",
          "model_name": "LayoutModel",
          "model_module_version": "1.2.0",
          "state": {
            "_model_module": "@jupyter-widgets/base",
            "_model_module_version": "1.2.0",
            "_model_name": "LayoutModel",
            "_view_count": null,
            "_view_module": "@jupyter-widgets/base",
            "_view_module_version": "1.2.0",
            "_view_name": "LayoutView",
            "align_content": null,
            "align_items": null,
            "align_self": null,
            "border": null,
            "bottom": null,
            "display": null,
            "flex": null,
            "flex_flow": null,
            "grid_area": null,
            "grid_auto_columns": null,
            "grid_auto_flow": null,
            "grid_auto_rows": null,
            "grid_column": null,
            "grid_gap": null,
            "grid_row": null,
            "grid_template_areas": null,
            "grid_template_columns": null,
            "grid_template_rows": null,
            "height": null,
            "justify_content": null,
            "justify_items": null,
            "left": null,
            "margin": null,
            "max_height": null,
            "max_width": null,
            "min_height": null,
            "min_width": null,
            "object_fit": null,
            "object_position": null,
            "order": null,
            "overflow": null,
            "overflow_x": null,
            "overflow_y": null,
            "padding": null,
            "right": null,
            "top": null,
            "visibility": null,
            "width": null
          }
        },
        "d3e88a2a569f41cf9a162901c02e2658": {
          "model_module": "@jupyter-widgets/base",
          "model_name": "LayoutModel",
          "model_module_version": "1.2.0",
          "state": {
            "_model_module": "@jupyter-widgets/base",
            "_model_module_version": "1.2.0",
            "_model_name": "LayoutModel",
            "_view_count": null,
            "_view_module": "@jupyter-widgets/base",
            "_view_module_version": "1.2.0",
            "_view_name": "LayoutView",
            "align_content": null,
            "align_items": null,
            "align_self": null,
            "border": null,
            "bottom": null,
            "display": null,
            "flex": null,
            "flex_flow": null,
            "grid_area": null,
            "grid_auto_columns": null,
            "grid_auto_flow": null,
            "grid_auto_rows": null,
            "grid_column": null,
            "grid_gap": null,
            "grid_row": null,
            "grid_template_areas": null,
            "grid_template_columns": null,
            "grid_template_rows": null,
            "height": null,
            "justify_content": null,
            "justify_items": null,
            "left": null,
            "margin": null,
            "max_height": null,
            "max_width": null,
            "min_height": null,
            "min_width": null,
            "object_fit": null,
            "object_position": null,
            "order": null,
            "overflow": null,
            "overflow_x": null,
            "overflow_y": null,
            "padding": null,
            "right": null,
            "top": null,
            "visibility": null,
            "width": null
          }
        },
        "7cf7e4e74e064ea392759f876940a211": {
          "model_module": "@jupyter-widgets/controls",
          "model_name": "DescriptionStyleModel",
          "model_module_version": "1.5.0",
          "state": {
            "_model_module": "@jupyter-widgets/controls",
            "_model_module_version": "1.5.0",
            "_model_name": "DescriptionStyleModel",
            "_view_count": null,
            "_view_module": "@jupyter-widgets/base",
            "_view_module_version": "1.2.0",
            "_view_name": "StyleView",
            "description_width": ""
          }
        },
        "446056e7d937455e89bbc8751ef7cd70": {
          "model_module": "@jupyter-widgets/base",
          "model_name": "LayoutModel",
          "model_module_version": "1.2.0",
          "state": {
            "_model_module": "@jupyter-widgets/base",
            "_model_module_version": "1.2.0",
            "_model_name": "LayoutModel",
            "_view_count": null,
            "_view_module": "@jupyter-widgets/base",
            "_view_module_version": "1.2.0",
            "_view_name": "LayoutView",
            "align_content": null,
            "align_items": null,
            "align_self": null,
            "border": null,
            "bottom": null,
            "display": null,
            "flex": null,
            "flex_flow": null,
            "grid_area": null,
            "grid_auto_columns": null,
            "grid_auto_flow": null,
            "grid_auto_rows": null,
            "grid_column": null,
            "grid_gap": null,
            "grid_row": null,
            "grid_template_areas": null,
            "grid_template_columns": null,
            "grid_template_rows": null,
            "height": null,
            "justify_content": null,
            "justify_items": null,
            "left": null,
            "margin": null,
            "max_height": null,
            "max_width": null,
            "min_height": null,
            "min_width": null,
            "object_fit": null,
            "object_position": null,
            "order": null,
            "overflow": null,
            "overflow_x": null,
            "overflow_y": null,
            "padding": null,
            "right": null,
            "top": null,
            "visibility": null,
            "width": null
          }
        },
        "d320f0fcd32847b6aa3f1a61f1ee73ef": {
          "model_module": "@jupyter-widgets/controls",
          "model_name": "ProgressStyleModel",
          "model_module_version": "1.5.0",
          "state": {
            "_model_module": "@jupyter-widgets/controls",
            "_model_module_version": "1.5.0",
            "_model_name": "ProgressStyleModel",
            "_view_count": null,
            "_view_module": "@jupyter-widgets/base",
            "_view_module_version": "1.2.0",
            "_view_name": "StyleView",
            "bar_color": null,
            "description_width": ""
          }
        },
        "f321961267b646eab0c19310bced77db": {
          "model_module": "@jupyter-widgets/base",
          "model_name": "LayoutModel",
          "model_module_version": "1.2.0",
          "state": {
            "_model_module": "@jupyter-widgets/base",
            "_model_module_version": "1.2.0",
            "_model_name": "LayoutModel",
            "_view_count": null,
            "_view_module": "@jupyter-widgets/base",
            "_view_module_version": "1.2.0",
            "_view_name": "LayoutView",
            "align_content": null,
            "align_items": null,
            "align_self": null,
            "border": null,
            "bottom": null,
            "display": null,
            "flex": null,
            "flex_flow": null,
            "grid_area": null,
            "grid_auto_columns": null,
            "grid_auto_flow": null,
            "grid_auto_rows": null,
            "grid_column": null,
            "grid_gap": null,
            "grid_row": null,
            "grid_template_areas": null,
            "grid_template_columns": null,
            "grid_template_rows": null,
            "height": null,
            "justify_content": null,
            "justify_items": null,
            "left": null,
            "margin": null,
            "max_height": null,
            "max_width": null,
            "min_height": null,
            "min_width": null,
            "object_fit": null,
            "object_position": null,
            "order": null,
            "overflow": null,
            "overflow_x": null,
            "overflow_y": null,
            "padding": null,
            "right": null,
            "top": null,
            "visibility": null,
            "width": null
          }
        },
        "d971b6e72dae42dea4c988ccfd441e30": {
          "model_module": "@jupyter-widgets/controls",
          "model_name": "DescriptionStyleModel",
          "model_module_version": "1.5.0",
          "state": {
            "_model_module": "@jupyter-widgets/controls",
            "_model_module_version": "1.5.0",
            "_model_name": "DescriptionStyleModel",
            "_view_count": null,
            "_view_module": "@jupyter-widgets/base",
            "_view_module_version": "1.2.0",
            "_view_name": "StyleView",
            "description_width": ""
          }
        },
        "b47dacf39362455c9f79cc545ea08b0c": {
          "model_module": "@jupyter-widgets/controls",
          "model_name": "HBoxModel",
          "model_module_version": "1.5.0",
          "state": {
            "_dom_classes": [],
            "_model_module": "@jupyter-widgets/controls",
            "_model_module_version": "1.5.0",
            "_model_name": "HBoxModel",
            "_view_count": null,
            "_view_module": "@jupyter-widgets/controls",
            "_view_module_version": "1.5.0",
            "_view_name": "HBoxView",
            "box_style": "",
            "children": [
              "IPY_MODEL_8d018358720b4cfabd94ba696a49a981",
              "IPY_MODEL_251dcb0715fe4eef8f056a48ac053145",
              "IPY_MODEL_bf1c7ff7528e48828e2b942b11eece44"
            ],
            "layout": "IPY_MODEL_7fc78c2f311744aabcac126762015337"
          }
        },
        "8d018358720b4cfabd94ba696a49a981": {
          "model_module": "@jupyter-widgets/controls",
          "model_name": "HTMLModel",
          "model_module_version": "1.5.0",
          "state": {
            "_dom_classes": [],
            "_model_module": "@jupyter-widgets/controls",
            "_model_module_version": "1.5.0",
            "_model_name": "HTMLModel",
            "_view_count": null,
            "_view_module": "@jupyter-widgets/controls",
            "_view_module_version": "1.5.0",
            "_view_name": "HTMLView",
            "description": "",
            "description_tooltip": null,
            "layout": "IPY_MODEL_820b853e112a489f9543ec744b49fb7c",
            "placeholder": "​",
            "style": "IPY_MODEL_e162be96b3964c5484c687ed1edf0e92",
            "value": "Train:   1%"
          }
        },
        "251dcb0715fe4eef8f056a48ac053145": {
          "model_module": "@jupyter-widgets/controls",
          "model_name": "FloatProgressModel",
          "model_module_version": "1.5.0",
          "state": {
            "_dom_classes": [],
            "_model_module": "@jupyter-widgets/controls",
            "_model_module_version": "1.5.0",
            "_model_name": "FloatProgressModel",
            "_view_count": null,
            "_view_module": "@jupyter-widgets/controls",
            "_view_module_version": "1.5.0",
            "_view_name": "ProgressView",
            "bar_style": "",
            "description": "",
            "description_tooltip": null,
            "layout": "IPY_MODEL_923e55fa81b9431591971fc234e27a4a",
            "max": 17623,
            "min": 0,
            "orientation": "horizontal",
            "style": "IPY_MODEL_91d39ce14faa46c59bb8f6db8a9e750d",
            "value": 179
          }
        },
        "bf1c7ff7528e48828e2b942b11eece44": {
          "model_module": "@jupyter-widgets/controls",
          "model_name": "HTMLModel",
          "model_module_version": "1.5.0",
          "state": {
            "_dom_classes": [],
            "_model_module": "@jupyter-widgets/controls",
            "_model_module_version": "1.5.0",
            "_model_name": "HTMLModel",
            "_view_count": null,
            "_view_module": "@jupyter-widgets/controls",
            "_view_module_version": "1.5.0",
            "_view_name": "HTMLView",
            "description": "",
            "description_tooltip": null,
            "layout": "IPY_MODEL_e5b74b164e4547a4805e963e66657c76",
            "placeholder": "​",
            "style": "IPY_MODEL_53f8804af4624cfcbb28c90ecebac51f",
            "value": " 179/17623 [00:29&lt;41:07,  7.07it/s, acc=24.1951%, loss=3.0738]"
          }
        },
        "7fc78c2f311744aabcac126762015337": {
          "model_module": "@jupyter-widgets/base",
          "model_name": "LayoutModel",
          "model_module_version": "1.2.0",
          "state": {
            "_model_module": "@jupyter-widgets/base",
            "_model_module_version": "1.2.0",
            "_model_name": "LayoutModel",
            "_view_count": null,
            "_view_module": "@jupyter-widgets/base",
            "_view_module_version": "1.2.0",
            "_view_name": "LayoutView",
            "align_content": null,
            "align_items": null,
            "align_self": null,
            "border": null,
            "bottom": null,
            "display": "inline-flex",
            "flex": null,
            "flex_flow": "row wrap",
            "grid_area": null,
            "grid_auto_columns": null,
            "grid_auto_flow": null,
            "grid_auto_rows": null,
            "grid_column": null,
            "grid_gap": null,
            "grid_row": null,
            "grid_template_areas": null,
            "grid_template_columns": null,
            "grid_template_rows": null,
            "height": null,
            "justify_content": null,
            "justify_items": null,
            "left": null,
            "margin": null,
            "max_height": null,
            "max_width": null,
            "min_height": null,
            "min_width": null,
            "object_fit": null,
            "object_position": null,
            "order": null,
            "overflow": null,
            "overflow_x": null,
            "overflow_y": null,
            "padding": null,
            "right": null,
            "top": null,
            "visibility": null,
            "width": "100%"
          }
        },
        "820b853e112a489f9543ec744b49fb7c": {
          "model_module": "@jupyter-widgets/base",
          "model_name": "LayoutModel",
          "model_module_version": "1.2.0",
          "state": {
            "_model_module": "@jupyter-widgets/base",
            "_model_module_version": "1.2.0",
            "_model_name": "LayoutModel",
            "_view_count": null,
            "_view_module": "@jupyter-widgets/base",
            "_view_module_version": "1.2.0",
            "_view_name": "LayoutView",
            "align_content": null,
            "align_items": null,
            "align_self": null,
            "border": null,
            "bottom": null,
            "display": null,
            "flex": null,
            "flex_flow": null,
            "grid_area": null,
            "grid_auto_columns": null,
            "grid_auto_flow": null,
            "grid_auto_rows": null,
            "grid_column": null,
            "grid_gap": null,
            "grid_row": null,
            "grid_template_areas": null,
            "grid_template_columns": null,
            "grid_template_rows": null,
            "height": null,
            "justify_content": null,
            "justify_items": null,
            "left": null,
            "margin": null,
            "max_height": null,
            "max_width": null,
            "min_height": null,
            "min_width": null,
            "object_fit": null,
            "object_position": null,
            "order": null,
            "overflow": null,
            "overflow_x": null,
            "overflow_y": null,
            "padding": null,
            "right": null,
            "top": null,
            "visibility": null,
            "width": null
          }
        },
        "e162be96b3964c5484c687ed1edf0e92": {
          "model_module": "@jupyter-widgets/controls",
          "model_name": "DescriptionStyleModel",
          "model_module_version": "1.5.0",
          "state": {
            "_model_module": "@jupyter-widgets/controls",
            "_model_module_version": "1.5.0",
            "_model_name": "DescriptionStyleModel",
            "_view_count": null,
            "_view_module": "@jupyter-widgets/base",
            "_view_module_version": "1.2.0",
            "_view_name": "StyleView",
            "description_width": ""
          }
        },
        "923e55fa81b9431591971fc234e27a4a": {
          "model_module": "@jupyter-widgets/base",
          "model_name": "LayoutModel",
          "model_module_version": "1.2.0",
          "state": {
            "_model_module": "@jupyter-widgets/base",
            "_model_module_version": "1.2.0",
            "_model_name": "LayoutModel",
            "_view_count": null,
            "_view_module": "@jupyter-widgets/base",
            "_view_module_version": "1.2.0",
            "_view_name": "LayoutView",
            "align_content": null,
            "align_items": null,
            "align_self": null,
            "border": null,
            "bottom": null,
            "display": null,
            "flex": "2",
            "flex_flow": null,
            "grid_area": null,
            "grid_auto_columns": null,
            "grid_auto_flow": null,
            "grid_auto_rows": null,
            "grid_column": null,
            "grid_gap": null,
            "grid_row": null,
            "grid_template_areas": null,
            "grid_template_columns": null,
            "grid_template_rows": null,
            "height": null,
            "justify_content": null,
            "justify_items": null,
            "left": null,
            "margin": null,
            "max_height": null,
            "max_width": null,
            "min_height": null,
            "min_width": null,
            "object_fit": null,
            "object_position": null,
            "order": null,
            "overflow": null,
            "overflow_x": null,
            "overflow_y": null,
            "padding": null,
            "right": null,
            "top": null,
            "visibility": null,
            "width": null
          }
        },
        "91d39ce14faa46c59bb8f6db8a9e750d": {
          "model_module": "@jupyter-widgets/controls",
          "model_name": "ProgressStyleModel",
          "model_module_version": "1.5.0",
          "state": {
            "_model_module": "@jupyter-widgets/controls",
            "_model_module_version": "1.5.0",
            "_model_name": "ProgressStyleModel",
            "_view_count": null,
            "_view_module": "@jupyter-widgets/base",
            "_view_module_version": "1.2.0",
            "_view_name": "StyleView",
            "bar_color": null,
            "description_width": ""
          }
        },
        "e5b74b164e4547a4805e963e66657c76": {
          "model_module": "@jupyter-widgets/base",
          "model_name": "LayoutModel",
          "model_module_version": "1.2.0",
          "state": {
            "_model_module": "@jupyter-widgets/base",
            "_model_module_version": "1.2.0",
            "_model_name": "LayoutModel",
            "_view_count": null,
            "_view_module": "@jupyter-widgets/base",
            "_view_module_version": "1.2.0",
            "_view_name": "LayoutView",
            "align_content": null,
            "align_items": null,
            "align_self": null,
            "border": null,
            "bottom": null,
            "display": null,
            "flex": null,
            "flex_flow": null,
            "grid_area": null,
            "grid_auto_columns": null,
            "grid_auto_flow": null,
            "grid_auto_rows": null,
            "grid_column": null,
            "grid_gap": null,
            "grid_row": null,
            "grid_template_areas": null,
            "grid_template_columns": null,
            "grid_template_rows": null,
            "height": null,
            "justify_content": null,
            "justify_items": null,
            "left": null,
            "margin": null,
            "max_height": null,
            "max_width": null,
            "min_height": null,
            "min_width": null,
            "object_fit": null,
            "object_position": null,
            "order": null,
            "overflow": null,
            "overflow_x": null,
            "overflow_y": null,
            "padding": null,
            "right": null,
            "top": null,
            "visibility": null,
            "width": null
          }
        },
        "53f8804af4624cfcbb28c90ecebac51f": {
          "model_module": "@jupyter-widgets/controls",
          "model_name": "DescriptionStyleModel",
          "model_module_version": "1.5.0",
          "state": {
            "_model_module": "@jupyter-widgets/controls",
            "_model_module_version": "1.5.0",
            "_model_name": "DescriptionStyleModel",
            "_view_count": null,
            "_view_module": "@jupyter-widgets/base",
            "_view_module_version": "1.2.0",
            "_view_name": "StyleView",
            "description_width": ""
          }
        },
        "f92e77c462324530beb3d5f63228f351": {
          "model_module": "@jupyter-widgets/controls",
          "model_name": "HBoxModel",
          "model_module_version": "1.5.0",
          "state": {
            "_dom_classes": [],
            "_model_module": "@jupyter-widgets/controls",
            "_model_module_version": "1.5.0",
            "_model_name": "HBoxModel",
            "_view_count": null,
            "_view_module": "@jupyter-widgets/controls",
            "_view_module_version": "1.5.0",
            "_view_name": "HBoxView",
            "box_style": "",
            "children": [
              "IPY_MODEL_b03feb42dfb1479b932dae0ddc383270",
              "IPY_MODEL_8f384890e0ac431690e87d9cfbb471b8",
              "IPY_MODEL_b1b4961477124f85a5ce6dc103cf4840"
            ],
            "layout": "IPY_MODEL_997e0726953c4530a6c65f170ec9e752"
          }
        },
        "b03feb42dfb1479b932dae0ddc383270": {
          "model_module": "@jupyter-widgets/controls",
          "model_name": "HTMLModel",
          "model_module_version": "1.5.0",
          "state": {
            "_dom_classes": [],
            "_model_module": "@jupyter-widgets/controls",
            "_model_module_version": "1.5.0",
            "_model_name": "HTMLModel",
            "_view_count": null,
            "_view_module": "@jupyter-widgets/controls",
            "_view_module_version": "1.5.0",
            "_view_name": "HTMLView",
            "description": "",
            "description_tooltip": null,
            "layout": "IPY_MODEL_d51823bad4654371a6cd1f6d79047972",
            "placeholder": "​",
            "style": "IPY_MODEL_a95df7687f544620a81eb8d1970e8bc3",
            "value": "100%"
          }
        },
        "8f384890e0ac431690e87d9cfbb471b8": {
          "model_module": "@jupyter-widgets/controls",
          "model_name": "FloatProgressModel",
          "model_module_version": "1.5.0",
          "state": {
            "_dom_classes": [],
            "_model_module": "@jupyter-widgets/controls",
            "_model_module_version": "1.5.0",
            "_model_name": "FloatProgressModel",
            "_view_count": null,
            "_view_module": "@jupyter-widgets/controls",
            "_view_module_version": "1.5.0",
            "_view_name": "ProgressView",
            "bar_style": "success",
            "description": "",
            "description_tooltip": null,
            "layout": "IPY_MODEL_7e94f21d58b643bf9ef58f30b8dd18f7",
            "max": 945,
            "min": 0,
            "orientation": "horizontal",
            "style": "IPY_MODEL_d7a9fb1eeacd4c2eafb33f3b8eb06654",
            "value": 945
          }
        },
        "b1b4961477124f85a5ce6dc103cf4840": {
          "model_module": "@jupyter-widgets/controls",
          "model_name": "HTMLModel",
          "model_module_version": "1.5.0",
          "state": {
            "_dom_classes": [],
            "_model_module": "@jupyter-widgets/controls",
            "_model_module_version": "1.5.0",
            "_model_name": "HTMLModel",
            "_view_count": null,
            "_view_module": "@jupyter-widgets/controls",
            "_view_module_version": "1.5.0",
            "_view_name": "HTMLView",
            "description": "",
            "description_tooltip": null,
            "layout": "IPY_MODEL_aa435ebb48384030b833151c9f4cec2f",
            "placeholder": "​",
            "style": "IPY_MODEL_8a94cbbd0f1a454f8d3c47d1eb4accfc",
            "value": " 945/945 [00:15&lt;00:00, 66.86it/s]"
          }
        },
        "997e0726953c4530a6c65f170ec9e752": {
          "model_module": "@jupyter-widgets/base",
          "model_name": "LayoutModel",
          "model_module_version": "1.2.0",
          "state": {
            "_model_module": "@jupyter-widgets/base",
            "_model_module_version": "1.2.0",
            "_model_name": "LayoutModel",
            "_view_count": null,
            "_view_module": "@jupyter-widgets/base",
            "_view_module_version": "1.2.0",
            "_view_name": "LayoutView",
            "align_content": null,
            "align_items": null,
            "align_self": null,
            "border": null,
            "bottom": null,
            "display": null,
            "flex": null,
            "flex_flow": null,
            "grid_area": null,
            "grid_auto_columns": null,
            "grid_auto_flow": null,
            "grid_auto_rows": null,
            "grid_column": null,
            "grid_gap": null,
            "grid_row": null,
            "grid_template_areas": null,
            "grid_template_columns": null,
            "grid_template_rows": null,
            "height": null,
            "justify_content": null,
            "justify_items": null,
            "left": null,
            "margin": null,
            "max_height": null,
            "max_width": null,
            "min_height": null,
            "min_width": null,
            "object_fit": null,
            "object_position": null,
            "order": null,
            "overflow": null,
            "overflow_x": null,
            "overflow_y": null,
            "padding": null,
            "right": null,
            "top": null,
            "visibility": null,
            "width": null
          }
        },
        "d51823bad4654371a6cd1f6d79047972": {
          "model_module": "@jupyter-widgets/base",
          "model_name": "LayoutModel",
          "model_module_version": "1.2.0",
          "state": {
            "_model_module": "@jupyter-widgets/base",
            "_model_module_version": "1.2.0",
            "_model_name": "LayoutModel",
            "_view_count": null,
            "_view_module": "@jupyter-widgets/base",
            "_view_module_version": "1.2.0",
            "_view_name": "LayoutView",
            "align_content": null,
            "align_items": null,
            "align_self": null,
            "border": null,
            "bottom": null,
            "display": null,
            "flex": null,
            "flex_flow": null,
            "grid_area": null,
            "grid_auto_columns": null,
            "grid_auto_flow": null,
            "grid_auto_rows": null,
            "grid_column": null,
            "grid_gap": null,
            "grid_row": null,
            "grid_template_areas": null,
            "grid_template_columns": null,
            "grid_template_rows": null,
            "height": null,
            "justify_content": null,
            "justify_items": null,
            "left": null,
            "margin": null,
            "max_height": null,
            "max_width": null,
            "min_height": null,
            "min_width": null,
            "object_fit": null,
            "object_position": null,
            "order": null,
            "overflow": null,
            "overflow_x": null,
            "overflow_y": null,
            "padding": null,
            "right": null,
            "top": null,
            "visibility": null,
            "width": null
          }
        },
        "a95df7687f544620a81eb8d1970e8bc3": {
          "model_module": "@jupyter-widgets/controls",
          "model_name": "DescriptionStyleModel",
          "model_module_version": "1.5.0",
          "state": {
            "_model_module": "@jupyter-widgets/controls",
            "_model_module_version": "1.5.0",
            "_model_name": "DescriptionStyleModel",
            "_view_count": null,
            "_view_module": "@jupyter-widgets/base",
            "_view_module_version": "1.2.0",
            "_view_name": "StyleView",
            "description_width": ""
          }
        },
        "7e94f21d58b643bf9ef58f30b8dd18f7": {
          "model_module": "@jupyter-widgets/base",
          "model_name": "LayoutModel",
          "model_module_version": "1.2.0",
          "state": {
            "_model_module": "@jupyter-widgets/base",
            "_model_module_version": "1.2.0",
            "_model_name": "LayoutModel",
            "_view_count": null,
            "_view_module": "@jupyter-widgets/base",
            "_view_module_version": "1.2.0",
            "_view_name": "LayoutView",
            "align_content": null,
            "align_items": null,
            "align_self": null,
            "border": null,
            "bottom": null,
            "display": null,
            "flex": null,
            "flex_flow": null,
            "grid_area": null,
            "grid_auto_columns": null,
            "grid_auto_flow": null,
            "grid_auto_rows": null,
            "grid_column": null,
            "grid_gap": null,
            "grid_row": null,
            "grid_template_areas": null,
            "grid_template_columns": null,
            "grid_template_rows": null,
            "height": null,
            "justify_content": null,
            "justify_items": null,
            "left": null,
            "margin": null,
            "max_height": null,
            "max_width": null,
            "min_height": null,
            "min_width": null,
            "object_fit": null,
            "object_position": null,
            "order": null,
            "overflow": null,
            "overflow_x": null,
            "overflow_y": null,
            "padding": null,
            "right": null,
            "top": null,
            "visibility": null,
            "width": null
          }
        },
        "d7a9fb1eeacd4c2eafb33f3b8eb06654": {
          "model_module": "@jupyter-widgets/controls",
          "model_name": "ProgressStyleModel",
          "model_module_version": "1.5.0",
          "state": {
            "_model_module": "@jupyter-widgets/controls",
            "_model_module_version": "1.5.0",
            "_model_name": "ProgressStyleModel",
            "_view_count": null,
            "_view_module": "@jupyter-widgets/base",
            "_view_module_version": "1.2.0",
            "_view_name": "StyleView",
            "bar_color": null,
            "description_width": ""
          }
        },
        "aa435ebb48384030b833151c9f4cec2f": {
          "model_module": "@jupyter-widgets/base",
          "model_name": "LayoutModel",
          "model_module_version": "1.2.0",
          "state": {
            "_model_module": "@jupyter-widgets/base",
            "_model_module_version": "1.2.0",
            "_model_name": "LayoutModel",
            "_view_count": null,
            "_view_module": "@jupyter-widgets/base",
            "_view_module_version": "1.2.0",
            "_view_name": "LayoutView",
            "align_content": null,
            "align_items": null,
            "align_self": null,
            "border": null,
            "bottom": null,
            "display": null,
            "flex": null,
            "flex_flow": null,
            "grid_area": null,
            "grid_auto_columns": null,
            "grid_auto_flow": null,
            "grid_auto_rows": null,
            "grid_column": null,
            "grid_gap": null,
            "grid_row": null,
            "grid_template_areas": null,
            "grid_template_columns": null,
            "grid_template_rows": null,
            "height": null,
            "justify_content": null,
            "justify_items": null,
            "left": null,
            "margin": null,
            "max_height": null,
            "max_width": null,
            "min_height": null,
            "min_width": null,
            "object_fit": null,
            "object_position": null,
            "order": null,
            "overflow": null,
            "overflow_x": null,
            "overflow_y": null,
            "padding": null,
            "right": null,
            "top": null,
            "visibility": null,
            "width": null
          }
        },
        "8a94cbbd0f1a454f8d3c47d1eb4accfc": {
          "model_module": "@jupyter-widgets/controls",
          "model_name": "DescriptionStyleModel",
          "model_module_version": "1.5.0",
          "state": {
            "_model_module": "@jupyter-widgets/controls",
            "_model_module_version": "1.5.0",
            "_model_name": "DescriptionStyleModel",
            "_view_count": null,
            "_view_module": "@jupyter-widgets/base",
            "_view_module_version": "1.2.0",
            "_view_name": "StyleView",
            "description_width": ""
          }
        }
      }
    }
  },
  "nbformat": 4,
  "nbformat_minor": 0
}